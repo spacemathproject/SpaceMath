{
 "cells": [
  {
   "cell_type": "markdown",
   "metadata": {
    "Collapsed": "false"
   },
   "source": [
    "# Preamble\n",
    "\n",
    "To use spacemathpy we can consider two ways, symbolic and numeric definitions of Higgs couplings. To do symbolic calculations we should use [sympy](https://www.sympy.org/en/index.html) library, for example we can use any funtion from sympy using the next one lines of commands:"
   ]
  },
  {
   "cell_type": "code",
   "execution_count": 1,
   "metadata": {
    "Collapsed": "false"
   },
   "outputs": [
    {
     "data": {
      "image/png": "[encoded data removed]",
      "text/latex": [
       "$\\displaystyle 2$"
      ],
      "text/plain": [
       "2"
      ]
     },
     "execution_count": 1,
     "metadata": {},
     "output_type": "execute_result"
    }
   ],
   "source": [
    "import sympy as sp #import sympy\n",
    "sp.init_printing() # pretty latex printer activation\n",
    "sp.sqrt(4)"
   ]
  },
  {
   "cell_type": "markdown",
   "metadata": {
    "Collapsed": "false"
   },
   "source": [
    "where we have used square root function of sympy library. Also we can work with symbolic variables with"
   ]
  },
  {
   "cell_type": "code",
   "execution_count": 2,
   "metadata": {
    "Collapsed": "false"
   },
   "outputs": [
    {
     "data": {
      "image/png": "[encoded data removed]",
      "text/latex": [
       "$\\displaystyle \\sqrt{x}$"
      ],
      "text/plain": [
       "√x"
      ]
     },
     "execution_count": 2,
     "metadata": {},
     "output_type": "execute_result"
    }
   ],
   "source": [
    "xsym = sp.symbols('x')#\n",
    "sp.sqrt(xsym)"
   ]
  },
  {
   "cell_type": "markdown",
   "metadata": {
    "Collapsed": "false"
   },
   "source": [
    "To numeric function we choose [numpy](https://numpy.org/) library, then, we can use square root of numpy library as follow"
   ]
  },
  {
   "cell_type": "code",
   "execution_count": 3,
   "metadata": {
    "Collapsed": "false"
   },
   "outputs": [
    {
     "data": {
      "image/png": "[encoded data removed]",
      "text/latex": [
       "$\\displaystyle 2.0$"
      ],
      "text/plain": [
       "2.0"
      ]
     },
     "execution_count": 3,
     "metadata": {},
     "output_type": "execute_result"
    }
   ],
   "source": [
    "import numpy as np #import numpy\n",
    "np.sqrt(4.0)"
   ]
  },
  {
   "cell_type": "markdown",
   "metadata": {
    "Collapsed": "false"
   },
   "source": [
    "the main advantage of numpy is that work in a vectorial way, "
   ]
  },
  {
   "cell_type": "code",
   "execution_count": 4,
   "metadata": {
    "Collapsed": "false"
   },
   "outputs": [
    {
     "data": {
      "text/plain": [
       "array([2., 3., 4.])"
      ]
     },
     "execution_count": 4,
     "metadata": {},
     "output_type": "execute_result"
    }
   ],
   "source": [
    "xnp = np.array([4.0,9.0,16.0])\n",
    "np.sqrt(xnp)"
   ]
  },
  {
   "cell_type": "markdown",
   "metadata": {
    "Collapsed": "false"
   },
   "source": [
    "in the example above the square root have been calculated over each component of `xnp` `np.array`. In principle, to work with spacemathpy we only need define a numeric version of our Higgs couplings, but if we can see our expressions is convenient to also define the symbolic version. To define both kinds of function, we do use `issymbolic` function defined in spacemathpy, which return `True` if someone of its arguments are sympy symbols(instances of `sp.symbols` function) or `False` otherwise. The next one is a example of this approach"
   ]
  },
  {
   "cell_type": "code",
   "execution_count": 5,
   "metadata": {
    "Collapsed": "false"
   },
   "outputs": [],
   "source": [
    "from spacemathpy import * #import all functions of spacemathpy"
   ]
  },
  {
   "cell_type": "code",
   "execution_count": 6,
   "metadata": {
    "Collapsed": "false"
   },
   "outputs": [],
   "source": [
    "def square_root(x):\n",
    "    if issymbolic(x):\n",
    "        return sp.sqrt(x)\n",
    "    else:\n",
    "        return np.sqrt(x)\n"
   ]
  },
  {
   "cell_type": "markdown",
   "metadata": {
    "Collapsed": "false"
   },
   "source": [
    "The above function works well with numeric and symbolic approaches, for example"
   ]
  },
  {
   "cell_type": "code",
   "execution_count": 7,
   "metadata": {
    "Collapsed": "false"
   },
   "outputs": [
    {
     "data": {
      "image/png": "[encoded data removed]",
      "text/latex": [
       "$\\displaystyle \\sqrt{x}$"
      ],
      "text/plain": [
       "√x"
      ]
     },
     "execution_count": 7,
     "metadata": {},
     "output_type": "execute_result"
    }
   ],
   "source": [
    "square_root(xsym)"
   ]
  },
  {
   "cell_type": "code",
   "execution_count": 8,
   "metadata": {
    "Collapsed": "false"
   },
   "outputs": [
    {
     "data": {
      "text/plain": [
       "array([2., 3., 4.])"
      ]
     },
     "execution_count": 8,
     "metadata": {},
     "output_type": "execute_result"
    }
   ],
   "source": [
    "square_root(xnp)"
   ]
  },
  {
   "cell_type": "markdown",
   "metadata": {
    "Collapsed": "false"
   },
   "source": [
    "As final comment, spacemathpy have some global variables predefined, for example masses to $t$,$b$, $\\tau$, $W$ and $Z$ particles are defined as a python dictionary as we can see in the next example"
   ]
  },
  {
   "cell_type": "code",
   "execution_count": 9,
   "metadata": {
    "Collapsed": "false"
   },
   "outputs": [
    {
     "data": {
      "text/plain": [
       "{'value': 80.379, 'units': 'GeV', 'symbol': m_W}"
      ]
     },
     "execution_count": 9,
     "metadata": {},
     "output_type": "execute_result"
    }
   ],
   "source": [
    "mW"
   ]
  },
  {
   "cell_type": "markdown",
   "metadata": {
    "Collapsed": "false"
   },
   "source": [
    "so, if we need a numeric value we use"
   ]
  },
  {
   "cell_type": "code",
   "execution_count": 10,
   "metadata": {
    "Collapsed": "false"
   },
   "outputs": [
    {
     "data": {
      "image/png": "[encoded data removed]",
      "text/latex": [
       "$\\displaystyle 80.379$"
      ],
      "text/plain": [
       "80.379"
      ]
     },
     "execution_count": 10,
     "metadata": {},
     "output_type": "execute_result"
    }
   ],
   "source": [
    "mW['value']"
   ]
  },
  {
   "cell_type": "markdown",
   "metadata": {
    "Collapsed": "false"
   },
   "source": [
    "for symbolic representation we use"
   ]
  },
  {
   "cell_type": "code",
   "execution_count": 11,
   "metadata": {
    "Collapsed": "false"
   },
   "outputs": [
    {
     "data": {
      "image/png": "[encoded data removed]",
      "text/latex": [
       "$\\displaystyle m_{W}$"
      ],
      "text/plain": [
       "m_W"
      ]
     },
     "execution_count": 11,
     "metadata": {},
     "output_type": "execute_result"
    }
   ],
   "source": [
    "mW['symbol']"
   ]
  },
  {
   "cell_type": "markdown",
   "metadata": {
    "Collapsed": "false"
   },
   "source": [
    "Also, constants like $g$ and $v$ (SM vev) are given by `g` and `SMvev` as we see above"
   ]
  },
  {
   "cell_type": "code",
   "execution_count": 12,
   "metadata": {
    "Collapsed": "false"
   },
   "outputs": [
    {
     "data": {
      "text/plain": [
       "{'value': 0.6534878048780488, 'unit': None, 'symbol': g}"
      ]
     },
     "execution_count": 12,
     "metadata": {},
     "output_type": "execute_result"
    }
   ],
   "source": [
    "g"
   ]
  },
  {
   "cell_type": "code",
   "execution_count": 13,
   "metadata": {
    "Collapsed": "false"
   },
   "outputs": [
    {
     "data": {
      "text/plain": [
       "{'value': 246, 'units': 'GeV', 'symbol': v}"
      ]
     },
     "execution_count": 13,
     "metadata": {},
     "output_type": "execute_result"
    }
   ],
   "source": [
    "SMvev"
   ]
  },
  {
   "cell_type": "code",
   "execution_count": 14,
   "metadata": {
    "Collapsed": "false"
   },
   "outputs": [
    {
     "data": {
      "text/plain": [
       "Higgs Signal streght observable with bounds: 0.87 < Rb <1.17 at 1 sigma and 0.72 < Rb< 1.32 at 2 sigma."
      ]
     },
     "execution_count": 14,
     "metadata": {},
     "output_type": "execute_result"
    }
   ],
   "source": [
    "Rb"
   ]
  },
  {
   "cell_type": "markdown",
   "metadata": {
    "Collapsed": "false"
   },
   "source": [
    "For a correct implementation of Higgs couplings we need use the predifined masses and constants.\n",
    "\n",
    "We can plot our functions with matplotlib library. To plot we need use numpy `np.array` as follow"
   ]
  },
  {
   "cell_type": "code",
   "execution_count": 15,
   "metadata": {
    "Collapsed": "false"
   },
   "outputs": [],
   "source": [
    "import matplotlib.pyplot as plt #import matplotlib.pyplot \n",
    "%matplotlib inline"
   ]
  },
  {
   "cell_type": "code",
   "execution_count": 16,
   "metadata": {
    "Collapsed": "false"
   },
   "outputs": [
    {
     "data": {
      "image/png": "[encoded data removed]",
      "text/plain": [
       "<Figure size 432x288 with 1 Axes>"
      ]
     },
     "metadata": {},
     "output_type": "display_data"
    }
   ],
   "source": [
    "X = np.linspace(0.001,10,100)#range x np.array\n",
    "plt.plot(X,square_root(X),label=r'$\\sqrt{x}$');#Plot 1\n",
    "plt.plot(X,np.log(X),label=r'$\\log{x}$')#Plot 2 \n",
    "plt.xlabel('x',fontsize=15);#x label\n",
    "plt.ylabel('y',fontsize=15);#y label\n",
    "plt.legend();#To show legends\n",
    "plt.title('Functions',fontsize=15);#Title"
   ]
  },
  {
   "cell_type": "markdown",
   "metadata": {
    "Collapsed": "false"
   },
   "source": [
    "`DataFrame` pandas method is used in spacemathpy, consider de next code"
   ]
  },
  {
   "cell_type": "code",
   "execution_count": 17,
   "metadata": {
    "Collapsed": "false"
   },
   "outputs": [],
   "source": [
    "import pandas as pd"
   ]
  },
  {
   "cell_type": "code",
   "execution_count": 18,
   "metadata": {
    "Collapsed": "false"
   },
   "outputs": [
    {
     "data": {
      "text/html": [
       "<div>\n",
       "<style scoped>\n",
       "    .dataframe tbody tr th:only-of-type {\n",
       "        vertical-align: middle;\n",
       "    }\n",
       "\n",
       "    .dataframe tbody tr th {\n",
       "        vertical-align: top;\n",
       "    }\n",
       "\n",
       "    .dataframe thead th {\n",
       "        text-align: right;\n",
       "    }\n",
       "</style>\n",
       "<table border=\"1\" class=\"dataframe\">\n",
       "  <thead>\n",
       "    <tr style=\"text-align: right;\">\n",
       "      <th></th>\n",
       "      <th>x</th>\n",
       "      <th>sqrt(x)</th>\n",
       "      <th>log(x)</th>\n",
       "    </tr>\n",
       "  </thead>\n",
       "  <tbody>\n",
       "    <tr>\n",
       "      <th>0</th>\n",
       "      <td>0.01</td>\n",
       "      <td>0.100000</td>\n",
       "      <td>-4.605170</td>\n",
       "    </tr>\n",
       "    <tr>\n",
       "      <th>1</th>\n",
       "      <td>0.12</td>\n",
       "      <td>0.346410</td>\n",
       "      <td>-2.120264</td>\n",
       "    </tr>\n",
       "    <tr>\n",
       "      <th>2</th>\n",
       "      <td>0.23</td>\n",
       "      <td>0.479583</td>\n",
       "      <td>-1.469676</td>\n",
       "    </tr>\n",
       "    <tr>\n",
       "      <th>3</th>\n",
       "      <td>0.34</td>\n",
       "      <td>0.583095</td>\n",
       "      <td>-1.078810</td>\n",
       "    </tr>\n",
       "    <tr>\n",
       "      <th>4</th>\n",
       "      <td>0.45</td>\n",
       "      <td>0.670820</td>\n",
       "      <td>-0.798508</td>\n",
       "    </tr>\n",
       "    <tr>\n",
       "      <th>5</th>\n",
       "      <td>0.56</td>\n",
       "      <td>0.748331</td>\n",
       "      <td>-0.579818</td>\n",
       "    </tr>\n",
       "    <tr>\n",
       "      <th>6</th>\n",
       "      <td>0.67</td>\n",
       "      <td>0.818535</td>\n",
       "      <td>-0.400478</td>\n",
       "    </tr>\n",
       "    <tr>\n",
       "      <th>7</th>\n",
       "      <td>0.78</td>\n",
       "      <td>0.883176</td>\n",
       "      <td>-0.248461</td>\n",
       "    </tr>\n",
       "    <tr>\n",
       "      <th>8</th>\n",
       "      <td>0.89</td>\n",
       "      <td>0.943398</td>\n",
       "      <td>-0.116534</td>\n",
       "    </tr>\n",
       "    <tr>\n",
       "      <th>9</th>\n",
       "      <td>1.00</td>\n",
       "      <td>1.000000</td>\n",
       "      <td>0.000000</td>\n",
       "    </tr>\n",
       "  </tbody>\n",
       "</table>\n",
       "</div>"
      ],
      "text/plain": [
       "      x   sqrt(x)    log(x)\n",
       "0  0.01  0.100000 -4.605170\n",
       "1  0.12  0.346410 -2.120264\n",
       "2  0.23  0.479583 -1.469676\n",
       "3  0.34  0.583095 -1.078810\n",
       "4  0.45  0.670820 -0.798508\n",
       "5  0.56  0.748331 -0.579818\n",
       "6  0.67  0.818535 -0.400478\n",
       "7  0.78  0.883176 -0.248461\n",
       "8  0.89  0.943398 -0.116534\n",
       "9  1.00  1.000000  0.000000"
      ]
     },
     "execution_count": 18,
     "metadata": {},
     "output_type": "execute_result"
    }
   ],
   "source": [
    "x = np.linspace(0.01,1,10)\n",
    "y1 = np.sqrt(x)\n",
    "y2 = np.log(x)\n",
    "data = {'x':x,'sqrt(x)':y1,'log(x)':y2}\n",
    "df = pd.DataFrame(data)\n",
    "df"
   ]
  },
  {
   "cell_type": "markdown",
   "metadata": {
    "Collapsed": "false"
   },
   "source": [
    "if we want a specific column of the above table (`DataFrame`) we run "
   ]
  },
  {
   "cell_type": "code",
   "execution_count": 19,
   "metadata": {
    "Collapsed": "false"
   },
   "outputs": [
    {
     "data": {
      "text/plain": [
       "0    0.01\n",
       "1    0.12\n",
       "2    0.23\n",
       "3    0.34\n",
       "4    0.45\n",
       "5    0.56\n",
       "6    0.67\n",
       "7    0.78\n",
       "8    0.89\n",
       "9    1.00\n",
       "Name: sqrt(x), dtype: float64"
      ]
     },
     "execution_count": 19,
     "metadata": {},
     "output_type": "execute_result"
    }
   ],
   "source": [
    "df['sqrt(x)']**2"
   ]
  },
  {
   "cell_type": "markdown",
   "metadata": {
    "Collapsed": "false"
   },
   "source": [
    "which is compatible with matplotlib, the we can plot `'sqrt(x)'` and `'log(x)'` columns versus `'x'` column if we use"
   ]
  },
  {
   "cell_type": "code",
   "execution_count": 20,
   "metadata": {
    "Collapsed": "false"
   },
   "outputs": [
    {
     "data": {
      "image/png": "[encoded data removed]",
      "text/plain": [
       "<Figure size 432x288 with 1 Axes>"
      ]
     },
     "metadata": {},
     "output_type": "display_data"
    }
   ],
   "source": [
    "plt.plot(df['x'],df['sqrt(x)'],label=r'$\\sqrt{x}$');#Plot 1\n",
    "plt.plot(df['x'],df['log(x)'],label=r'$\\log{x}$')#Plot 2 \n",
    "plt.xlabel('x',fontsize=15);#x label\n",
    "plt.ylabel('y',fontsize=15);#y label\n",
    "plt.legend();#To show legends\n",
    "plt.title('Functions',fontsize=15);#Title\n",
    "plt.savefig('pandas-plot.png',dpi=500)"
   ]
  },
  {
   "cell_type": "markdown",
   "metadata": {
    "Collapsed": "false"
   },
   "source": [
    "# 2HDM-II"
   ]
  },
  {
   "cell_type": "markdown",
   "metadata": {
    "Collapsed": "false"
   },
   "source": [
    "## Higgs couplings with fermions\n",
    "In the context of 2HDM-II, the couplings $g_{htt}$, $g_{hbb}$, $g_{h\\tau\\tau}$ are given by :\n",
    "\n",
    "$$g_{htt} = \\frac{g}{2}\\frac{m_{t}}{m_{W}}\\frac{\\cos{\\alpha}}{\\sin{\\beta}}$$\n",
    "$$g_{hbb} = \\frac{g}{2}\\frac{m_{b}}{m_{W}}\\frac{\\cos{\\alpha}}{\\sin{\\beta}}$$\n",
    "$$g_{h\\tau\\tau} = -\\frac{g}{2}\\frac{m_{\\tau}}{m_{W}}\\frac{\\sin{\\alpha}}{\\cos{\\beta}}$$\n",
    "\n",
    "where $f$ represents fermions, $m_f$ and $m_W$ are the masses of $f$ and $W$ respectively, $\\alpha$ and $\\beta$ are the mixing angles of 2HDM-I and finally $g$ is the $SU(2)$ coupling constant. In the case of $W$ and $Z$ Higgs couplings we have the next expressions:\n",
    "\n",
    "$$g_{hVV} = g_V m_{V}\\sin{(\\beta-\\alpha)}$$\n",
    "where $m_V$ with $V = Z, W$. If we consider $C_{\\alpha \\beta} = \\cos{(\\beta-\\alpha)}$\n",
    "\n",
    "$$\\alpha = \\arctan{(\\tan{(\\beta)})}- \\arccos{(C_{\\alpha \\beta})}$$\n",
    "$$\\sin{(\\beta)} = \\tan{(\\beta)}\\cos{(\\arctan{(\\tan{(\\beta)})})}$$\n",
    "$$\\cos{(\\beta)} = \\frac{\\sin{(\\arctan{(\\tan{(\\beta)})})}}{\\tan{(\\beta)}}$$\n",
    "then, $g_{hff}$ and $g_{hVV}$ are rewritten in term of $t_{\\beta} = \\tan{(\\beta)}$ and $C_{\\alpha \\beta}$.\n",
    "\n",
    "In python these couplings can be defined as functions $\\alpha$, $\\tan{\\beta}$ and $C_{\\alpha \\beta} = \\cos{(\\alpha - \\beta)}$. "
   ]
  },
  {
   "cell_type": "markdown",
   "metadata": {
    "Collapsed": "false"
   },
   "source": [
    "### Python definition of $t$, $b$ and $\\tau$ Higgs couplings"
   ]
  },
  {
   "cell_type": "code",
   "execution_count": 21,
   "metadata": {
    "Collapsed": "false"
   },
   "outputs": [
    {
     "data": {
      "image/png": "[encoded data removed]",
      "text/latex": [
       "$\\displaystyle \\frac{0.704105691056911 \\sqrt{t_{b}^{2} + 1} \\cos{\\left(\\alpha \\right)}}{t_{b}}$"
      ],
      "text/plain": [
       "                     __________            \n",
       "                    ╱    2                 \n",
       "0.704105691056911⋅╲╱  t_b  + 1 ⋅cos(\\alpha)\n",
       "───────────────────────────────────────────\n",
       "                    t_b                    "
      ]
     },
     "metadata": {},
     "output_type": "display_data"
    },
    {
     "data": {
      "image/png": "[encoded data removed]",
      "text/latex": [
       "$\\displaystyle \\frac{0.0169918699186992 \\sqrt{t_{b}^{2} + 1} \\cos{\\left(\\alpha \\right)}}{t_{b}}$"
      ],
      "text/plain": [
       "                      __________            \n",
       "                     ╱    2                 \n",
       "0.0169918699186992⋅╲╱  t_b  + 1 ⋅cos(\\alpha)\n",
       "────────────────────────────────────────────\n",
       "                    t_b                     "
      ]
     },
     "metadata": {},
     "output_type": "display_data"
    },
    {
     "data": {
      "image/png": "[encoded data removed]",
      "text/latex": [
       "$\\displaystyle - 0.0072230081300813 \\sqrt{t_{b}^{2} + 1} \\sin{\\left(\\alpha \\right)}$"
      ],
      "text/plain": [
       "                       __________            \n",
       "                      ╱    2                 \n",
       "-0.0072230081300813⋅╲╱  t_b  + 1 ⋅sin(\\alpha)"
      ]
     },
     "metadata": {},
     "output_type": "display_data"
    }
   ],
   "source": [
    "mf,a,tb,cab = sp.symbols(r'm_f,\\alpha,t_b,{{C_{\\alpha\\beta}}}',real=True)\n",
    "\n",
    "#2HDM-I\n",
    "\n",
    "def ghtt_2hdmI(α,tb):\n",
    "    if issymbolic(α,tb):\n",
    "        mtop,MW= mt['symbol'],mW['symbol']\n",
    "        return (g['symbol']/2)*(mtop/MW)*(sp.cos(α)/(tb*sp.cos(sp.atan(tb))))\n",
    "    else:\n",
    "        mtop,MW= mt['value'],mW['value']\n",
    "        return (g['value']/2)*(mtop/MW)*(np.cos(α)/(tb*np.cos(np.arctan(tb))))\n",
    "display(ghtt_2hdmI(a,tb).subs(\n",
    "    numeric_substitutions('All')))\n",
    "\n",
    "def ghbb_2hdmI(α,tb):\n",
    "    if issymbolic(α,tb):\n",
    "        mbot,MW= mb['symbol'],mW['symbol']\n",
    "        return (g['symbol']/2)*(mbot/MW)*(sp.cos(α)/(tb*sp.cos(sp.atan(tb))))\n",
    "    else:\n",
    "        mbot,MW= mb['value'],mW['value']\n",
    "        return (g['value']/2)*(mbot/MW)*(np.cos(α)/(tb*np.cos(np.arctan(tb))))\n",
    "display(ghbb_2hdmI(a,tb).subs(\n",
    "    numeric_substitutions('All')))\n",
    "    \n",
    "def ghtautau_2hdmI(α,tb):\n",
    "    if issymbolic(α,tb):\n",
    "        mtau,MW= mta['symbol'],mW['symbol']\n",
    "        return -(g['symbol']/2)*(mtau/MW)*(sp.sin(α)/(sp.sin(sp.atan(tb))/tb))\n",
    "    else:\n",
    "        mtau,MW= mta['value'],mW['value']\n",
    "        return -(g['value']/2)*(mtau/MW)*(np.sin(α)/(np.sin(np.arctan(tb))/tb))\n",
    "display(ghtautau_2hdmI(a,tb).subs(\n",
    "    numeric_substitutions('All')))"
   ]
  },
  {
   "cell_type": "markdown",
   "metadata": {
    "Collapsed": "false"
   },
   "source": [
    "### Python definition of $W$ and $Z$ Higgs couplings"
   ]
  },
  {
   "cell_type": "code",
   "execution_count": 22,
   "metadata": {
    "Collapsed": "false"
   },
   "outputs": [],
   "source": [
    "def ghww_2hdmI(sab):\n",
    "    global mW,g\n",
    "    if issymbolic(sab):\n",
    "        MW,ggw= mW['symbol'],gw['symbol']\n",
    "        return ggw*MW*sab\n",
    "    else:\n",
    "        MW,ggw= mW['value'],gw['value']\n",
    "        return ggw*MW*sab\n",
    "     \n",
    "        \n",
    "def ghzz_2hdmI(sab):\n",
    "    global mZ,g\n",
    "    if issymbolic(sab):\n",
    "        MZ,ggz= mZ['symbol'],gz['symbol']\n",
    "        \n",
    "        return ggz*MZ*sab\n",
    "    else:\n",
    "        MZ,ggz= mZ['value'],gz['value']\n",
    "        return ggz*MZ*sab"
   ]
  },
  {
   "cell_type": "markdown",
   "metadata": {
    "Collapsed": "false"
   },
   "source": [
    "## Initial parameter space"
   ]
  },
  {
   "cell_type": "code",
   "execution_count": 23,
   "metadata": {
    "Collapsed": "false"
   },
   "outputs": [],
   "source": [
    "n = 1000000\n",
    "Cab = np.random.uniform(-1.0,1.0,n)\n",
    "tb = np.random.uniform(0.001,50.0,n)\n",
    "parameters = {'Cab':Cab,'tb':tb}"
   ]
  },
  {
   "cell_type": "code",
   "execution_count": 24,
   "metadata": {
    "Collapsed": "false"
   },
   "outputs": [],
   "source": [
    "THDMII = HiggsSignalStrength()\n",
    "THDMII.model = '2HDM-I'\n",
    "THDMII.ghtt = ghtt_2hdmI(-np.arccos(Cab) + np.arctan(tb),tb)\n",
    "THDMII.ghbb = ghbb_2hdmI(-np.arccos(Cab) + np.arctan(tb),tb)\n",
    "THDMII.ghtautau = ghtautau_2hdmI(-np.arccos(Cab) + np.arctan(tb),tb)\n",
    "THDMII.ghWW = ghww_2hdmI(np.sqrt(1-Cab**2))\n",
    "THDMII.ghZZ = ghzz_2hdmI(np.sqrt(1-Cab**2))"
   ]
  },
  {
   "cell_type": "code",
   "execution_count": 25,
   "metadata": {
    "Collapsed": "false"
   },
   "outputs": [],
   "source": [
    "THDMII;"
   ]
  },
  {
   "cell_type": "code",
   "execution_count": 26,
   "metadata": {
    "Collapsed": "false"
   },
   "outputs": [
    {
     "name": "stderr",
     "output_type": "stream",
     "text": [
      "/home/moises/miniconda3/lib/python3.7/site-packages/spacemathpy/RXX.py:43: RuntimeWarning: invalid value encountered in sqrt\n",
      "  return -(1.0/4.0)*(np.log((1+np.sqrt(1-x))/(1-np.sqrt(1-x)))-1j*np.pi)**2;#MODIFICADO#(-sp.I*np.pi)\n",
      "/home/moises/miniconda3/lib/python3.7/site-packages/spacemathpy/RXX.py:72: RuntimeWarning: invalid value encountered in arcsin\n",
      "  return np.arcsin(np.sqrt((mS**2)/(4*mbot**2)))**2;\n",
      "/home/moises/miniconda3/lib/python3.7/site-packages/spacemathpy/RXX.py:168: RuntimeWarning: invalid value encountered in sqrt\n",
      "  return -(1.0/4.0)*(np.log((1+np.sqrt(1-x))/(1-np.sqrt(1-x)))-1j*np.pi)**2; #######MODIFICADO#########(-sp.I*np.pi)\n"
     ]
    }
   ],
   "source": [
    "THDMIIspace1 = THDMII.parameter_space(parameters,sigma=1)\n",
    "THDMIIspace2 = THDMII.parameter_space(parameters,sigma=2)"
   ]
  },
  {
   "cell_type": "markdown",
   "metadata": {
    "Collapsed": "true"
   },
   "source": [
    "## Allowed parameter space\n",
    "\n",
    "We calculate the allowed parameter space to each signal"
   ]
  },
  {
   "cell_type": "markdown",
   "metadata": {
    "Collapsed": "false"
   },
   "source": [
    "### $$R_{\\tau}$$"
   ]
  },
  {
   "cell_type": "code",
   "execution_count": 27,
   "metadata": {
    "Collapsed": "false"
   },
   "outputs": [
    {
     "data": {
      "text/plain": [
       "dict_keys(['Rtau', 'Rb', 'Rgamma', 'Rw', 'Rz', 'Intersection'])"
      ]
     },
     "execution_count": 27,
     "metadata": {},
     "output_type": "execute_result"
    }
   ],
   "source": [
    "THDMIIspace1.keys()"
   ]
  },
  {
   "cell_type": "code",
   "execution_count": 28,
   "metadata": {
    "Collapsed": "false"
   },
   "outputs": [],
   "source": [
    "latex_names = {'Cab':r'$\\cos(\\beta -\\alpha)$','tb':r'$\\tan(\\beta)$'}"
   ]
  },
  {
   "cell_type": "code",
   "execution_count": 29,
   "metadata": {
    "Collapsed": "false"
   },
   "outputs": [
    {
     "data": {
      "image/png": "[encoded data removed]",
      "text/plain": [
       "<Figure size 432x288 with 1 Axes>"
      ]
     },
     "metadata": {},
     "output_type": "display_data"
    }
   ],
   "source": [
    "plot_df(THDMIIspace1['Rtau'],\n",
    "        colx='Cab',\n",
    "        coly='tb',\n",
    "        #fname='rtau_space.png'\n",
    "       )"
   ]
  },
  {
   "cell_type": "markdown",
   "metadata": {
    "Collapsed": "true"
   },
   "source": [
    "### $$R_{b}$$"
   ]
  },
  {
   "cell_type": "code",
   "execution_count": 30,
   "metadata": {
    "Collapsed": "false"
   },
   "outputs": [
    {
     "data": {
      "image/png": "[encoded data removed]",
      "text/plain": [
       "<Figure size 432x288 with 1 Axes>"
      ]
     },
     "metadata": {},
     "output_type": "display_data"
    }
   ],
   "source": [
    "plot_df(THDMIIspace1['Rb'],colx='Cab',coly='tb',latex_names=latex_names)"
   ]
  },
  {
   "cell_type": "markdown",
   "metadata": {
    "Collapsed": "true"
   },
   "source": [
    "### $$R_{\\gamma}$$"
   ]
  },
  {
   "cell_type": "code",
   "execution_count": 31,
   "metadata": {
    "Collapsed": "false"
   },
   "outputs": [
    {
     "data": {
      "image/png": "[encoded data removed]",
      "text/plain": [
       "<Figure size 432x288 with 1 Axes>"
      ]
     },
     "metadata": {},
     "output_type": "display_data"
    }
   ],
   "source": [
    "plot_df(THDMIIspace1['Rgamma'],colx='Cab',coly='tb',latex_names=latex_names)"
   ]
  },
  {
   "cell_type": "markdown",
   "metadata": {
    "Collapsed": "true"
   },
   "source": [
    "### $$R_{W}$$"
   ]
  },
  {
   "cell_type": "code",
   "execution_count": 32,
   "metadata": {
    "Collapsed": "false"
   },
   "outputs": [
    {
     "data": {
      "image/png": "[encoded data removed]",
      "text/plain": [
       "<Figure size 432x288 with 1 Axes>"
      ]
     },
     "metadata": {},
     "output_type": "display_data"
    }
   ],
   "source": [
    "plot_df(THDMIIspace1['Rw'],colx='Cab',coly='tb',\n",
    "        latex_names=latex_names)"
   ]
  },
  {
   "cell_type": "markdown",
   "metadata": {
    "Collapsed": "true"
   },
   "source": [
    "### $$R_{Z}$$"
   ]
  },
  {
   "cell_type": "code",
   "execution_count": 33,
   "metadata": {
    "Collapsed": "false"
   },
   "outputs": [
    {
     "data": {
      "image/png": "[encoded data removed]",
      "text/plain": [
       "<Figure size 432x288 with 1 Axes>"
      ]
     },
     "metadata": {},
     "output_type": "display_data"
    }
   ],
   "source": [
    "plot_df(THDMIIspace1['Rtau'],colx='Cab',coly='tb',\n",
    "        latex_names=latex_names)"
   ]
  },
  {
   "cell_type": "markdown",
   "metadata": {
    "Collapsed": "false"
   },
   "source": [
    "## Intersection"
   ]
  },
  {
   "cell_type": "code",
   "execution_count": 34,
   "metadata": {
    "Collapsed": "false"
   },
   "outputs": [],
   "source": [
    "THDMIIspace1['Intersection'];"
   ]
  },
  {
   "cell_type": "code",
   "execution_count": 35,
   "metadata": {
    "Collapsed": "false"
   },
   "outputs": [
    {
     "data": {
      "image/png": "[encoded data removed]",
      "text/plain": [
       "<Figure size 432x288 with 1 Axes>"
      ]
     },
     "metadata": {},
     "output_type": "display_data"
    }
   ],
   "source": [
    "plot_df(THDMIIspace1['Intersection'],colx='Cab',coly='tb',\n",
    "        latex_names=latex_names,title=r'2HDM-II intersection at 1$\\sigma$')"
   ]
  },
  {
   "cell_type": "markdown",
   "metadata": {
    "Collapsed": "false"
   },
   "source": [
    "Using directly matplotlib"
   ]
  },
  {
   "cell_type": "code",
   "execution_count": 36,
   "metadata": {
    "Collapsed": "false"
   },
   "outputs": [],
   "source": [
    "import matplotlib.pyplot as plt\n",
    "%matplotlib inline"
   ]
  },
  {
   "cell_type": "code",
   "execution_count": 37,
   "metadata": {
    "Collapsed": "false"
   },
   "outputs": [],
   "source": [
    "signals = ['Rtau','Rb','Rgamma','Rw','Rz','Intersection']\n",
    "data1s = {signal:THDMIIspace1[signal] for signal in signals}\n",
    "data2s = {signal:THDMIIspace2[signal] for signal in signals}"
   ]
  },
  {
   "cell_type": "code",
   "execution_count": 38,
   "metadata": {
    "Collapsed": "false"
   },
   "outputs": [
    {
     "data": {
      "image/png": "[encoded data removed]",
      "text/plain": [
       "<Figure size 432x288 with 1 Axes>"
      ]
     },
     "metadata": {},
     "output_type": "display_data"
    }
   ],
   "source": [
    "plt.figure()\n",
    "for k in data1s.keys():\n",
    "    plt.plot(data1s[k]['Cab'],data1s[k]['tb'],'.',label=k,alpha=0.7)\n",
    "plt.xlabel(r'$\\cos(\\beta -\\alpha)$');\n",
    "plt.ylabel(r'$\\tan(\\beta)$');\n",
    "plt.title(r'Plane  $\\tan(\\beta)$ vs $\\cos(\\alpha -\\beta)$ to 1$\\sigma$')\n",
    "plt.legend();"
   ]
  },
  {
   "cell_type": "code",
   "execution_count": 39,
   "metadata": {
    "Collapsed": "false"
   },
   "outputs": [
    {
     "data": {
      "image/png": "[encoded data removed]",
      "text/plain": [
       "<Figure size 432x288 with 1 Axes>"
      ]
     },
     "metadata": {},
     "output_type": "display_data"
    }
   ],
   "source": [
    "sigmaspace = {'2sigma':THDMIIspace2,'1sigma':THDMIIspace1}\n",
    "for sigma in sigmaspace.keys():\n",
    "    plt.plot(sigmaspace[sigma]['Intersection']['Cab'],\n",
    "        sigmaspace[sigma]['Intersection']['tb'],'.',\n",
    "             label=sigma,alpha=0.5)\n",
    "plt.grid()\n",
    "plt.xlabel(r'$\\cos(\\beta -\\alpha)$');\n",
    "plt.ylabel(r'$\\tan(\\beta)$');\n",
    "plt.title(r'Plane  $\\tan(\\beta)$ vs $\\cos(\\alpha -\\beta)$')\n",
    "plt.legend();"
   ]
  },
  {
   "cell_type": "code",
   "execution_count": 41,
   "metadata": {
    "Collapsed": "false"
   },
   "outputs": [
    {
     "data": {
      "image/png": "[encoded data removed]",
      "text/plain": [
       "<Figure size 432x288 with 2 Axes>"
      ]
     },
     "metadata": {},
     "output_type": "display_data"
    }
   ],
   "source": [
    "from mpl_toolkits.axes_grid1.inset_locator import inset_axes\n",
    "\n",
    "sigmaspace = {r'2$\\sigma$':THDMIIspace2,r'1$\\sigma$':THDMIIspace1}\n",
    "fig, ax = plt.subplots(1, 1, figsize=[6, 4])\n",
    "for sigma in sigmaspace.keys():\n",
    "    ax.plot(sigmaspace[sigma]['Intersection']['Cab'],\n",
    "        sigmaspace[sigma]['Intersection']['tb'],'.',\n",
    "             label=sigma,alpha=0.5)\n",
    "ax.set_xlim(xmax=0.7,xmin=-0.2)\n",
    "#ax.grid()\n",
    "ax.set_xlabel(r'$\\cos(\\beta -\\alpha)$',fontsize=15);\n",
    "ax.set_ylabel(r'$\\tan(\\beta)$',fontsize=15);\n",
    "ax.set_title(r'2HDM-III',fontsize=15)\n",
    "ax.legend();\n",
    "\n",
    "\n",
    "# Create inset of width 1.3 inches and height 0.9 inches\n",
    "# at the default upper right location\n",
    "axins = inset_axes(ax, width=2, height=1.5)\n",
    "for sigma in sigmaspace.keys():\n",
    "    axins.plot(sigmaspace[sigma]['Intersection']['Cab'],\n",
    "        sigmaspace[sigma]['Intersection']['tb'],'.',\n",
    "             label=sigma,alpha=0.5)\n",
    "axins.set_ylim(ymax=5,ymin=0)\n",
    "axins.set_xlim(xmax=0.3,xmin=-0.1)\n",
    "axins.grid()\n",
    "axins.set_xlabel(r'$\\cos(\\beta -\\alpha)$');\n",
    "axins.set_ylabel(r'$\\tan(\\beta)$');\n",
    "#ax.title(r'Plane  $\\tan(\\beta)$ vs $\\cos(\\alpha -\\beta)$')\n",
    "axins.legend();\n",
    "\n",
    "path = '/home/moises/Dropbox/SpaceMathPackage/spacemathtex/Validation/'\n",
    "plt.savefig(path + 'THDMIII.pdf')\n",
    "#plt.show()"
   ]
  },
  {
   "cell_type": "code",
   "execution_count": null,
   "metadata": {
    "Collapsed": "false"
   },
   "outputs": [],
   "source": []
  }
 ],
 "metadata": {
  "kernelspec": {
   "display_name": "Python 3",
   "language": "python",
   "name": "python3"
  },
  "language_info": {
   "codemirror_mode": {
    "name": "ipython",
    "version": 3
   },
   "file_extension": ".py",
   "mimetype": "text/x-python",
   "name": "python",
   "nbconvert_exporter": "python",
   "pygments_lexer": "ipython3",
   "version": "3.7.3"
  }
 },
 "nbformat": 4,
 "nbformat_minor": 4
}
