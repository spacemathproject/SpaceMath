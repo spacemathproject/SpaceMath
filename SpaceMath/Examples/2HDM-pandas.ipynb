{
 "cells": [
  {
   "cell_type": "code",
   "execution_count": 16,
   "metadata": {
    "Collapsed": "false"
   },
   "outputs": [],
   "source": [
    "from spacemathpy import *\n",
    "import matplotlib.pyplot as plt\n",
    "%matplotlib inline"
   ]
  },
  {
   "cell_type": "markdown",
   "metadata": {
    "Collapsed": "false"
   },
   "source": [
    "# 2HDM"
   ]
  },
  {
   "cell_type": "markdown",
   "metadata": {
    "Collapsed": "false"
   },
   "source": [
    "## Couplings\n",
    "In the context of 2HDM-III can define the couplings $g_{htt}$, $g_{hbb}$, $g_{h\\tau\\tau}$ and $g_{hWW}$"
   ]
  },
  {
   "cell_type": "code",
   "execution_count": 17,
   "metadata": {
    "Collapsed": "false"
   },
   "outputs": [],
   "source": [
    "#2HDM-III\n",
    "def ghtt_2hdm(α,Att,Cab,tb):\n",
    "    global mW,mt,g,SMvev\n",
    "    if issymbolic(α,Att,Cab,tb):\n",
    "        MW,Mt= mW['symbol'],mt['symbol']\n",
    "        return (g['symbol']/2)*(Mt/MW)*(-sp.cos(α)/tb*sp.cos(sp.atan(tb)) + \n",
    "                sp.sqrt(2)*Cab/(g['symbol']*tb*sp.cos(sp.atan(tb)))*(MW/Mt)*(\n",
    "                    Mt/SMvev['symbol'])*Att)\n",
    "    else:\n",
    "        MW,Mt= mW['value'],mt['value']\n",
    "        return (g['value']/2)*(Mt/MW)*(-np.cos(α)/tb*np.cos(np.arctan(tb)) + \n",
    "                np.sqrt(2)*Cab/(g['value']*tb*np.cos(np.arctan(tb)))*(MW/Mt)*(\n",
    "                    Mt/SMvev['value'])*Att)"
   ]
  },
  {
   "cell_type": "markdown",
   "metadata": {
    "Collapsed": "false"
   },
   "source": [
    "symbolic definition of variables"
   ]
  },
  {
   "cell_type": "code",
   "execution_count": 18,
   "metadata": {
    "Collapsed": "false"
   },
   "outputs": [
    {
     "data": {
      "image/png": "[encoded data removed]",
      "text/latex": [
       "$\\displaystyle \\frac{g m_{t} \\left(\\frac{\\sqrt{2} A_{tt} C_{ab} m_{W} \\sqrt{t_{b}^{2} + 1}}{g t_{b} v} - \\frac{\\cos{\\left(\\alpha \\right)}}{t_{b} \\sqrt{t_{b}^{2} + 1}}\\right)}{2 m_{W}}$"
      ],
      "text/plain": [
       "     ⎛                        __________                    ⎞\n",
       "     ⎜                       ╱    2                         ⎟\n",
       "     ⎜√2⋅A_{tt}⋅C_{ab}⋅m_W⋅╲╱  t_b  + 1          cos(α)     ⎟\n",
       "g⋅mₜ⋅⎜────────────────────────────────── - ─────────────────⎟\n",
       "     ⎜             g⋅t_b⋅v                        __________⎟\n",
       "     ⎜                                           ╱    2     ⎟\n",
       "     ⎝                                     t_b⋅╲╱  t_b  + 1 ⎠\n",
       "─────────────────────────────────────────────────────────────\n",
       "                            2⋅m_W                            "
      ]
     },
     "execution_count": 18,
     "metadata": {},
     "output_type": "execute_result"
    }
   ],
   "source": [
    "a,Att,Cab,tb = sp.symbols('alpha,A_{tt},C_{ab},t_b')\n",
    "ghtt_2hdm(a,Att,Cab,tb)"
   ]
  },
  {
   "cell_type": "markdown",
   "metadata": {
    "Collapsed": "false"
   },
   "source": [
    "numeric evaluation"
   ]
  },
  {
   "cell_type": "code",
   "execution_count": 19,
   "metadata": {
    "Collapsed": "false"
   },
   "outputs": [
    {
     "data": {
      "image/png": "[encoded data removed]",
      "text/latex": [
       "$\\displaystyle -1.545764653436345$"
      ],
      "text/plain": [
       "-1.545764653436345"
      ]
     },
     "execution_count": 19,
     "metadata": {},
     "output_type": "execute_result"
    }
   ],
   "source": [
    "ghtt_2hdm(0.1,0.2,0.3,0.4)"
   ]
  },
  {
   "cell_type": "code",
   "execution_count": 20,
   "metadata": {
    "Collapsed": "false"
   },
   "outputs": [],
   "source": [
    "def ghbb_2hdm(α,Abb,Cab,tb):\n",
    "    global mW,mb,g,SMvev\n",
    "    if issymbolic(α,Abb,Cab,tb):\n",
    "        MW,Mb= mW['symbol'],mb['symbol']\n",
    "        return (g['symbol']/2)*(Mb/MW)*(-sp.sin(α)*tb/sp.sin(sp.atan(tb)) + \n",
    "                sp.sqrt(2)*(Cab*tb)/(g['symbol']*sp.sin(sp.atan(tb)))*(MW/Mb)*(\n",
    "                    Mb/SMvev['symbol'])*Abb)\n",
    "    else:\n",
    "        MW,Mb= mW['value'],mb['value']\n",
    "        return (g['value']/2)*(Mb/MW)*(-np.sin(α)*tb/np.sin(np.arctan(tb)) + \n",
    "                np.sqrt(2)*(Cab*tb)/(g['value']*np.sin(np.arctan(tb)))*(MW/Mb)*(\n",
    "                    Mb/SMvev['value'])*Abb)"
   ]
  },
  {
   "cell_type": "markdown",
   "metadata": {
    "Collapsed": "false"
   },
   "source": [
    "symbolic evaluation"
   ]
  },
  {
   "cell_type": "code",
   "execution_count": 21,
   "metadata": {
    "Collapsed": "false"
   },
   "outputs": [
    {
     "data": {
      "image/png": "[encoded data removed]",
      "text/latex": [
       "$\\displaystyle \\frac{g m_{b} \\left(\\frac{\\sqrt{2} A_{bb} C_{ab} m_{W} \\sqrt{t_{b}^{2} + 1}}{g v} - \\sqrt{t_{b}^{2} + 1} \\sin{\\left(\\alpha \\right)}\\right)}{2 m_{W}}$"
      ],
      "text/plain": [
       "      ⎛                      __________                       ⎞\n",
       "      ⎜                     ╱    2           __________       ⎟\n",
       "      ⎜√2⋅A_bb⋅C_{ab}⋅m_W⋅╲╱  t_b  + 1      ╱    2            ⎟\n",
       "g⋅m_b⋅⎜──────────────────────────────── - ╲╱  t_b  + 1 ⋅sin(α)⎟\n",
       "      ⎝              g⋅v                                      ⎠\n",
       "───────────────────────────────────────────────────────────────\n",
       "                             2⋅m_W                             "
      ]
     },
     "execution_count": 21,
     "metadata": {},
     "output_type": "execute_result"
    }
   ],
   "source": [
    "Abb = sp.symbols('A_bb')    \n",
    "ghbb_2hdm(a,Abb,Cab,tb)"
   ]
  },
  {
   "cell_type": "markdown",
   "metadata": {
    "Collapsed": "false"
   },
   "source": [
    "numeric evaluation"
   ]
  },
  {
   "cell_type": "code",
   "execution_count": 22,
   "metadata": {
    "Collapsed": "false"
   },
   "outputs": [
    {
     "data": {
      "image/png": "[encoded data removed]",
      "text/latex": [
       "$\\displaystyle -0.0010505944329082069$"
      ],
      "text/plain": [
       "-0.0010505944329082069"
      ]
     },
     "execution_count": 22,
     "metadata": {},
     "output_type": "execute_result"
    }
   ],
   "source": [
    "ghbb_2hdm(0.1,0.2,0.3,0.4)"
   ]
  },
  {
   "cell_type": "code",
   "execution_count": 23,
   "metadata": {
    "Collapsed": "false"
   },
   "outputs": [
    {
     "data": {
      "image/png": "[encoded data removed]",
      "text/latex": [
       "$\\displaystyle -0.00033946954860783365$"
      ],
      "text/plain": [
       "-0.00033946954860783365"
      ]
     },
     "execution_count": 23,
     "metadata": {},
     "output_type": "execute_result"
    }
   ],
   "source": [
    "def ghtautau_2hdm(α,Atata,Cab,tb):\n",
    "    global mW,mta,g,SMvev\n",
    "    if issymbolic(α,Atata,Cab,tb):\n",
    "        MW,Mtau= mW['symbol'],mta['symbol']\n",
    "        return (g['symbol']/2)*(Mtau/MW)*(-sp.sin(α)*tb/sp.sin(sp.atan(tb)) + \n",
    "                sp.sqrt(2)*(Cab*tb)/(g['symbol']*sp.sin(sp.atan(tb)))*(MW/Mtau)*(\n",
    "                    Mtau/SMvev['symbol'])*Atata)\n",
    "    else:\n",
    "        MW,Mtau= mW['value'],mta['value']\n",
    "        return (g['value']/2)*(Mtau/MW)*(-np.sin(α)/tb*np.sin(np.arctan(tb)) + \n",
    "                np.sqrt(2)*(Cab*tb)/(g['value']*np.sin(np.arctan(tb)))*(MW/Mtau)*(\n",
    "                    Mtau/SMvev['value'])*Atata)\n",
    "\n",
    "Atata = sp.symbols(r'A_{\\tau\\tau}')    \n",
    "ghtautau_2hdm(a,Atata,Cab,tb)\n",
    "ghtautau_2hdm(0.1,0.2,0.3,0.4)"
   ]
  },
  {
   "cell_type": "code",
   "execution_count": 24,
   "metadata": {
    "Collapsed": "false"
   },
   "outputs": [
    {
     "data": {
      "image/png": "[encoded data removed]",
      "text/latex": [
       "$\\displaystyle 5.252669626829269$"
      ],
      "text/plain": [
       "5.252669626829269"
      ]
     },
     "execution_count": 24,
     "metadata": {},
     "output_type": "execute_result"
    }
   ],
   "source": [
    "def ghww_2hdm(sab):\n",
    "    global mW,g\n",
    "    if issymbolic(sab):\n",
    "        MW,gg= mW['symbol'],g['symbol']\n",
    "        return gg*MW*sab\n",
    "    else:\n",
    "        MW,gg= mW['value'],g['value']\n",
    "        return gg*MW*sab\n",
    "\n",
    "sab = sp.symbols('s_{ab}',real=True)\n",
    "ghww_2hdm(sab)\n",
    "ghww_2hdm(0.1)"
   ]
  },
  {
   "cell_type": "code",
   "execution_count": 25,
   "metadata": {
    "Collapsed": "false"
   },
   "outputs": [
    {
     "data": {
      "image/png": "[encoded data removed]",
      "text/latex": [
       "$\\displaystyle 5.958998455609756$"
      ],
      "text/plain": [
       "5.958998455609756"
      ]
     },
     "execution_count": 25,
     "metadata": {},
     "output_type": "execute_result"
    }
   ],
   "source": [
    "def ghzz_2hdm(sab):\n",
    "    global mZ,g\n",
    "    if issymbolic(sab):\n",
    "        MZ,gg= mZ['symbol'],g['symbol']\n",
    "        return gg*MZ*sab\n",
    "    else:\n",
    "        MZ,gg= mZ['value'],g['value']\n",
    "        return gg*MZ*sab\n",
    "\n",
    "#sab = sp.symbols('s_{ab}',real=True)\n",
    "ghzz_2hdm(sab)\n",
    "ghzz_2hdm(0.1)"
   ]
  },
  {
   "cell_type": "markdown",
   "metadata": {
    "Collapsed": "false"
   },
   "source": [
    "## Signal Strenght functions\n",
    "\n",
    "Now, we need to define our Higgs streght signals in terms of our variables"
   ]
  },
  {
   "cell_type": "code",
   "execution_count": 26,
   "metadata": {
    "Collapsed": "false"
   },
   "outputs": [],
   "source": [
    "rtautau = lambda Cab,tb,Att,Abb: Rtata(\n",
    "    ghtt_2hdm(np.arccos(Cab) + np.arctan(tb),Att,Cab,tb),\n",
    "    ghbb_2hdm(np.arccos(Cab) + np.arctan(tb),Abb,Cab,tb),\n",
    "    ghtautau_2hdm(np.arccos(Cab) + np.arctan(tb),1,Cab,tb))\n",
    "\n",
    "rbb = lambda Cab,tb,Att,Abb:Rbotbot(\n",
    "    ghtt_2hdm(np.arccos(Cab) + np.arctan(tb),Att,Cab,tb),\n",
    "    ghbb_2hdm(np.arccos(Cab) + np.arctan(tb),Abb,Cab,tb))\n",
    "\n",
    "rgaga = lambda Cab,tb,Att,Abb,mCH:Rgaga(\n",
    "    ghtt_2hdm(np.arccos(Cab) + np.arctan(tb),Att,Cab,tb),\n",
    "    ghbb_2hdm(np.arccos(Cab) + np.arctan(tb),Abb,Cab,tb),\n",
    "    ghww_2hdm(np.sqrt(1 - Cab**2)), 0, mCH)\n",
    "\n",
    "rww = lambda Cab,tb,Att,Abb:RWW(\n",
    "    ghtt_2hdm(np.arccos(Cab) + np.arctan(tb),Att,Cab,tb),\n",
    "    ghbb_2hdm(np.arccos(Cab) + np.arctan(tb),Abb,Cab,tb),\n",
    "    ghww_2hdm(np.sqrt(1 - Cab**2)))\n",
    "\n",
    "rzz = lambda Cab,tb,Att,Abb:RWW(\n",
    "    ghtt_2hdm(np.arccos(Cab) + np.arctan(tb),Att,Cab,tb),\n",
    "    ghbb_2hdm(np.arccos(Cab) + np.arctan(tb),Abb,Cab,tb),\n",
    "    ghzz_2hdm(np.sqrt(1 - Cab**2)))"
   ]
  },
  {
   "cell_type": "markdown",
   "metadata": {
    "Collapsed": "false"
   },
   "source": [
    "## Allowed parameter space\n",
    "\n",
    "We calculate the allowed parameter space to each signal"
   ]
  },
  {
   "cell_type": "code",
   "execution_count": 27,
   "metadata": {
    "Collapsed": "false"
   },
   "outputs": [
    {
     "name": "stdout",
     "output_type": "stream",
     "text": [
      "CPU times: user 11 µs, sys: 1e+03 ns, total: 12 µs\n",
      "Wall time: 22.2 µs\n"
     ]
    },
    {
     "name": "stderr",
     "output_type": "stream",
     "text": [
      "/home/moises/miniconda3/lib/python3.7/site-packages/spacemathpy/RXX.py:41: RuntimeWarning: invalid value encountered in sqrt\n",
      "  return -(1/4)*(np.log((1+np.sqrt(1-(((mS**2)/(4*mtop**2))**-1)))/(1-np.sqrt(1-(((mS**2)/(4*mtop**2))**-1))))*(-sp.I*np.pi))**2\n"
     ]
    },
    {
     "data": {
      "text/html": [
       "<div>\n",
       "<style scoped>\n",
       "    .dataframe tbody tr th:only-of-type {\n",
       "        vertical-align: middle;\n",
       "    }\n",
       "\n",
       "    .dataframe tbody tr th {\n",
       "        vertical-align: top;\n",
       "    }\n",
       "\n",
       "    .dataframe thead th {\n",
       "        text-align: right;\n",
       "    }\n",
       "</style>\n",
       "<table border=\"1\" class=\"dataframe\">\n",
       "  <thead>\n",
       "    <tr style=\"text-align: right;\">\n",
       "      <th></th>\n",
       "      <th>Cab</th>\n",
       "      <th>tb</th>\n",
       "      <th>Att</th>\n",
       "      <th>Abb</th>\n",
       "      <th>Rtau</th>\n",
       "    </tr>\n",
       "  </thead>\n",
       "  <tbody>\n",
       "    <tr>\n",
       "      <th>0</th>\n",
       "      <td>0.917392</td>\n",
       "      <td>4.841104</td>\n",
       "      <td>0.591981</td>\n",
       "      <td>0.385519</td>\n",
       "      <td>1.248548</td>\n",
       "    </tr>\n",
       "    <tr>\n",
       "      <th>1</th>\n",
       "      <td>-0.759024</td>\n",
       "      <td>0.602346</td>\n",
       "      <td>0.035786</td>\n",
       "      <td>0.089121</td>\n",
       "      <td>1.082559</td>\n",
       "    </tr>\n",
       "    <tr>\n",
       "      <th>2</th>\n",
       "      <td>-0.870205</td>\n",
       "      <td>0.507111</td>\n",
       "      <td>0.236409</td>\n",
       "      <td>0.683191</td>\n",
       "      <td>1.078357</td>\n",
       "    </tr>\n",
       "    <tr>\n",
       "      <th>3</th>\n",
       "      <td>0.827463</td>\n",
       "      <td>4.883818</td>\n",
       "      <td>0.711549</td>\n",
       "      <td>0.199160</td>\n",
       "      <td>1.242891</td>\n",
       "    </tr>\n",
       "    <tr>\n",
       "      <th>4</th>\n",
       "      <td>-0.885287</td>\n",
       "      <td>3.560495</td>\n",
       "      <td>0.910994</td>\n",
       "      <td>0.845646</td>\n",
       "      <td>1.265032</td>\n",
       "    </tr>\n",
       "    <tr>\n",
       "      <th>5</th>\n",
       "      <td>-0.533778</td>\n",
       "      <td>0.517636</td>\n",
       "      <td>0.315387</td>\n",
       "      <td>0.448193</td>\n",
       "      <td>1.112463</td>\n",
       "    </tr>\n",
       "    <tr>\n",
       "      <th>6</th>\n",
       "      <td>-0.923057</td>\n",
       "      <td>2.783380</td>\n",
       "      <td>0.997891</td>\n",
       "      <td>0.551182</td>\n",
       "      <td>1.008556</td>\n",
       "    </tr>\n",
       "    <tr>\n",
       "      <th>7</th>\n",
       "      <td>-0.820661</td>\n",
       "      <td>0.363520</td>\n",
       "      <td>0.760829</td>\n",
       "      <td>0.274643</td>\n",
       "      <td>1.051846</td>\n",
       "    </tr>\n",
       "    <tr>\n",
       "      <th>8</th>\n",
       "      <td>-0.991711</td>\n",
       "      <td>4.856205</td>\n",
       "      <td>0.509197</td>\n",
       "      <td>0.070848</td>\n",
       "      <td>1.078346</td>\n",
       "    </tr>\n",
       "    <tr>\n",
       "      <th>9</th>\n",
       "      <td>0.883474</td>\n",
       "      <td>2.843722</td>\n",
       "      <td>0.971588</td>\n",
       "      <td>0.136834</td>\n",
       "      <td>0.978294</td>\n",
       "    </tr>\n",
       "    <tr>\n",
       "      <th>10</th>\n",
       "      <td>-0.605783</td>\n",
       "      <td>0.631469</td>\n",
       "      <td>0.013787</td>\n",
       "      <td>0.088042</td>\n",
       "      <td>0.974794</td>\n",
       "    </tr>\n",
       "    <tr>\n",
       "      <th>11</th>\n",
       "      <td>0.948633</td>\n",
       "      <td>4.497188</td>\n",
       "      <td>0.570952</td>\n",
       "      <td>0.484222</td>\n",
       "      <td>1.142414</td>\n",
       "    </tr>\n",
       "    <tr>\n",
       "      <th>12</th>\n",
       "      <td>0.860527</td>\n",
       "      <td>4.452915</td>\n",
       "      <td>0.707946</td>\n",
       "      <td>0.580195</td>\n",
       "      <td>1.239203</td>\n",
       "    </tr>\n",
       "    <tr>\n",
       "      <th>13</th>\n",
       "      <td>0.738568</td>\n",
       "      <td>4.476720</td>\n",
       "      <td>0.835650</td>\n",
       "      <td>0.520087</td>\n",
       "      <td>0.976785</td>\n",
       "    </tr>\n",
       "    <tr>\n",
       "      <th>14</th>\n",
       "      <td>0.958072</td>\n",
       "      <td>4.292663</td>\n",
       "      <td>0.574151</td>\n",
       "      <td>0.252045</td>\n",
       "      <td>1.059695</td>\n",
       "    </tr>\n",
       "    <tr>\n",
       "      <th>15</th>\n",
       "      <td>-0.359537</td>\n",
       "      <td>0.509104</td>\n",
       "      <td>0.275375</td>\n",
       "      <td>0.876854</td>\n",
       "      <td>0.994358</td>\n",
       "    </tr>\n",
       "    <tr>\n",
       "      <th>16</th>\n",
       "      <td>-0.410254</td>\n",
       "      <td>0.565521</td>\n",
       "      <td>0.035232</td>\n",
       "      <td>0.087290</td>\n",
       "      <td>1.046652</td>\n",
       "    </tr>\n",
       "    <tr>\n",
       "      <th>17</th>\n",
       "      <td>-0.137546</td>\n",
       "      <td>0.304083</td>\n",
       "      <td>0.534340</td>\n",
       "      <td>0.536704</td>\n",
       "      <td>1.193847</td>\n",
       "    </tr>\n",
       "    <tr>\n",
       "      <th>18</th>\n",
       "      <td>0.990353</td>\n",
       "      <td>3.107485</td>\n",
       "      <td>0.764275</td>\n",
       "      <td>0.475184</td>\n",
       "      <td>1.088425</td>\n",
       "    </tr>\n",
       "    <tr>\n",
       "      <th>19</th>\n",
       "      <td>-0.282885</td>\n",
       "      <td>0.350096</td>\n",
       "      <td>0.689154</td>\n",
       "      <td>0.187824</td>\n",
       "      <td>1.247781</td>\n",
       "    </tr>\n",
       "    <tr>\n",
       "      <th>20</th>\n",
       "      <td>-0.372487</td>\n",
       "      <td>0.314247</td>\n",
       "      <td>0.939698</td>\n",
       "      <td>0.150418</td>\n",
       "      <td>1.207697</td>\n",
       "    </tr>\n",
       "    <tr>\n",
       "      <th>21</th>\n",
       "      <td>-0.950214</td>\n",
       "      <td>0.452057</td>\n",
       "      <td>0.225638</td>\n",
       "      <td>0.682284</td>\n",
       "      <td>1.074646</td>\n",
       "    </tr>\n",
       "    <tr>\n",
       "      <th>22</th>\n",
       "      <td>-0.210363</td>\n",
       "      <td>0.396693</td>\n",
       "      <td>0.421053</td>\n",
       "      <td>0.541066</td>\n",
       "      <td>1.086347</td>\n",
       "    </tr>\n",
       "    <tr>\n",
       "      <th>23</th>\n",
       "      <td>-0.912328</td>\n",
       "      <td>4.851908</td>\n",
       "      <td>0.620628</td>\n",
       "      <td>0.182108</td>\n",
       "      <td>1.168628</td>\n",
       "    </tr>\n",
       "    <tr>\n",
       "      <th>24</th>\n",
       "      <td>0.825792</td>\n",
       "      <td>3.861570</td>\n",
       "      <td>0.904897</td>\n",
       "      <td>0.023087</td>\n",
       "      <td>1.261992</td>\n",
       "    </tr>\n",
       "    <tr>\n",
       "      <th>25</th>\n",
       "      <td>-0.042380</td>\n",
       "      <td>0.185549</td>\n",
       "      <td>0.951574</td>\n",
       "      <td>0.425120</td>\n",
       "      <td>1.008061</td>\n",
       "    </tr>\n",
       "    <tr>\n",
       "      <th>26</th>\n",
       "      <td>0.844442</td>\n",
       "      <td>3.862077</td>\n",
       "      <td>0.724846</td>\n",
       "      <td>0.967515</td>\n",
       "      <td>0.941596</td>\n",
       "    </tr>\n",
       "    <tr>\n",
       "      <th>27</th>\n",
       "      <td>0.755984</td>\n",
       "      <td>4.290929</td>\n",
       "      <td>0.884200</td>\n",
       "      <td>0.759548</td>\n",
       "      <td>1.118159</td>\n",
       "    </tr>\n",
       "    <tr>\n",
       "      <th>28</th>\n",
       "      <td>0.718085</td>\n",
       "      <td>4.834135</td>\n",
       "      <td>0.933190</td>\n",
       "      <td>0.493714</td>\n",
       "      <td>1.263176</td>\n",
       "    </tr>\n",
       "    <tr>\n",
       "      <th>29</th>\n",
       "      <td>-0.224849</td>\n",
       "      <td>0.371454</td>\n",
       "      <td>0.746371</td>\n",
       "      <td>0.377764</td>\n",
       "      <td>0.967570</td>\n",
       "    </tr>\n",
       "    <tr>\n",
       "      <th>...</th>\n",
       "      <td>...</td>\n",
       "      <td>...</td>\n",
       "      <td>...</td>\n",
       "      <td>...</td>\n",
       "      <td>...</td>\n",
       "    </tr>\n",
       "    <tr>\n",
       "      <th>1756</th>\n",
       "      <td>-0.148825</td>\n",
       "      <td>0.331729</td>\n",
       "      <td>0.772673</td>\n",
       "      <td>0.108359</td>\n",
       "      <td>0.957440</td>\n",
       "    </tr>\n",
       "    <tr>\n",
       "      <th>1757</th>\n",
       "      <td>-0.886286</td>\n",
       "      <td>3.279448</td>\n",
       "      <td>0.945519</td>\n",
       "      <td>0.813441</td>\n",
       "      <td>1.130912</td>\n",
       "    </tr>\n",
       "    <tr>\n",
       "      <th>1758</th>\n",
       "      <td>-0.870358</td>\n",
       "      <td>3.902389</td>\n",
       "      <td>0.871249</td>\n",
       "      <td>0.075230</td>\n",
       "      <td>1.249057</td>\n",
       "    </tr>\n",
       "    <tr>\n",
       "      <th>1759</th>\n",
       "      <td>0.904643</td>\n",
       "      <td>3.009766</td>\n",
       "      <td>0.865657</td>\n",
       "      <td>0.880494</td>\n",
       "      <td>0.995991</td>\n",
       "    </tr>\n",
       "    <tr>\n",
       "      <th>1760</th>\n",
       "      <td>0.773654</td>\n",
       "      <td>4.467567</td>\n",
       "      <td>0.789137</td>\n",
       "      <td>0.167056</td>\n",
       "      <td>1.005079</td>\n",
       "    </tr>\n",
       "    <tr>\n",
       "      <th>1761</th>\n",
       "      <td>-0.876734</td>\n",
       "      <td>0.275151</td>\n",
       "      <td>0.934046</td>\n",
       "      <td>0.067100</td>\n",
       "      <td>1.107623</td>\n",
       "    </tr>\n",
       "    <tr>\n",
       "      <th>1762</th>\n",
       "      <td>-0.562515</td>\n",
       "      <td>0.556582</td>\n",
       "      <td>0.112258</td>\n",
       "      <td>0.053532</td>\n",
       "      <td>1.209022</td>\n",
       "    </tr>\n",
       "    <tr>\n",
       "      <th>1763</th>\n",
       "      <td>-0.877568</td>\n",
       "      <td>3.251300</td>\n",
       "      <td>0.952827</td>\n",
       "      <td>0.204142</td>\n",
       "      <td>1.041713</td>\n",
       "    </tr>\n",
       "    <tr>\n",
       "      <th>1764</th>\n",
       "      <td>-0.154532</td>\n",
       "      <td>0.238133</td>\n",
       "      <td>0.947177</td>\n",
       "      <td>0.610775</td>\n",
       "      <td>1.210746</td>\n",
       "    </tr>\n",
       "    <tr>\n",
       "      <th>1765</th>\n",
       "      <td>0.834607</td>\n",
       "      <td>3.677182</td>\n",
       "      <td>0.919846</td>\n",
       "      <td>0.625598</td>\n",
       "      <td>1.273843</td>\n",
       "    </tr>\n",
       "    <tr>\n",
       "      <th>1766</th>\n",
       "      <td>0.902509</td>\n",
       "      <td>4.698089</td>\n",
       "      <td>0.603866</td>\n",
       "      <td>0.193586</td>\n",
       "      <td>1.131692</td>\n",
       "    </tr>\n",
       "    <tr>\n",
       "      <th>1767</th>\n",
       "      <td>0.745872</td>\n",
       "      <td>4.143734</td>\n",
       "      <td>0.916653</td>\n",
       "      <td>0.633396</td>\n",
       "      <td>1.055251</td>\n",
       "    </tr>\n",
       "    <tr>\n",
       "      <th>1768</th>\n",
       "      <td>-0.777678</td>\n",
       "      <td>4.698692</td>\n",
       "      <td>0.782427</td>\n",
       "      <td>0.605757</td>\n",
       "      <td>0.969047</td>\n",
       "    </tr>\n",
       "    <tr>\n",
       "      <th>1769</th>\n",
       "      <td>-0.316835</td>\n",
       "      <td>0.499478</td>\n",
       "      <td>0.250563</td>\n",
       "      <td>0.916083</td>\n",
       "      <td>0.987139</td>\n",
       "    </tr>\n",
       "    <tr>\n",
       "      <th>1770</th>\n",
       "      <td>-0.940585</td>\n",
       "      <td>4.418394</td>\n",
       "      <td>0.607737</td>\n",
       "      <td>0.255536</td>\n",
       "      <td>1.049656</td>\n",
       "    </tr>\n",
       "    <tr>\n",
       "      <th>1771</th>\n",
       "      <td>-0.104976</td>\n",
       "      <td>0.330690</td>\n",
       "      <td>0.213395</td>\n",
       "      <td>0.715364</td>\n",
       "      <td>1.109186</td>\n",
       "    </tr>\n",
       "    <tr>\n",
       "      <th>1772</th>\n",
       "      <td>-0.967348</td>\n",
       "      <td>3.741121</td>\n",
       "      <td>0.679653</td>\n",
       "      <td>0.780718</td>\n",
       "      <td>1.108745</td>\n",
       "    </tr>\n",
       "    <tr>\n",
       "      <th>1773</th>\n",
       "      <td>0.877970</td>\n",
       "      <td>3.250533</td>\n",
       "      <td>0.894283</td>\n",
       "      <td>0.904565</td>\n",
       "      <td>1.134166</td>\n",
       "    </tr>\n",
       "    <tr>\n",
       "      <th>1774</th>\n",
       "      <td>0.997133</td>\n",
       "      <td>3.461024</td>\n",
       "      <td>0.660766</td>\n",
       "      <td>0.291702</td>\n",
       "      <td>1.018004</td>\n",
       "    </tr>\n",
       "    <tr>\n",
       "      <th>1775</th>\n",
       "      <td>0.785971</td>\n",
       "      <td>4.701813</td>\n",
       "      <td>0.712690</td>\n",
       "      <td>0.814692</td>\n",
       "      <td>1.016514</td>\n",
       "    </tr>\n",
       "    <tr>\n",
       "      <th>1776</th>\n",
       "      <td>0.974302</td>\n",
       "      <td>3.059629</td>\n",
       "      <td>0.791104</td>\n",
       "      <td>0.489667</td>\n",
       "      <td>1.080603</td>\n",
       "    </tr>\n",
       "    <tr>\n",
       "      <th>1777</th>\n",
       "      <td>-0.958136</td>\n",
       "      <td>3.085201</td>\n",
       "      <td>0.880007</td>\n",
       "      <td>0.702342</td>\n",
       "      <td>1.174374</td>\n",
       "    </tr>\n",
       "    <tr>\n",
       "      <th>1778</th>\n",
       "      <td>-0.628425</td>\n",
       "      <td>0.630712</td>\n",
       "      <td>0.022560</td>\n",
       "      <td>0.517669</td>\n",
       "      <td>0.974539</td>\n",
       "    </tr>\n",
       "    <tr>\n",
       "      <th>1779</th>\n",
       "      <td>-0.616514</td>\n",
       "      <td>0.543683</td>\n",
       "      <td>0.306096</td>\n",
       "      <td>0.515227</td>\n",
       "      <td>1.010962</td>\n",
       "    </tr>\n",
       "    <tr>\n",
       "      <th>1780</th>\n",
       "      <td>0.939551</td>\n",
       "      <td>3.874012</td>\n",
       "      <td>0.623328</td>\n",
       "      <td>0.556638</td>\n",
       "      <td>0.987580</td>\n",
       "    </tr>\n",
       "    <tr>\n",
       "      <th>1781</th>\n",
       "      <td>0.889091</td>\n",
       "      <td>4.495638</td>\n",
       "      <td>0.590325</td>\n",
       "      <td>0.541888</td>\n",
       "      <td>0.979187</td>\n",
       "    </tr>\n",
       "    <tr>\n",
       "      <th>1782</th>\n",
       "      <td>-0.901546</td>\n",
       "      <td>3.430947</td>\n",
       "      <td>0.833506</td>\n",
       "      <td>0.916154</td>\n",
       "      <td>1.033605</td>\n",
       "    </tr>\n",
       "    <tr>\n",
       "      <th>1783</th>\n",
       "      <td>-0.105816</td>\n",
       "      <td>0.279189</td>\n",
       "      <td>0.908111</td>\n",
       "      <td>0.579093</td>\n",
       "      <td>0.958712</td>\n",
       "    </tr>\n",
       "    <tr>\n",
       "      <th>1784</th>\n",
       "      <td>-0.791840</td>\n",
       "      <td>4.635783</td>\n",
       "      <td>0.773650</td>\n",
       "      <td>0.170651</td>\n",
       "      <td>0.947376</td>\n",
       "    </tr>\n",
       "    <tr>\n",
       "      <th>1785</th>\n",
       "      <td>0.798136</td>\n",
       "      <td>4.920753</td>\n",
       "      <td>0.709210</td>\n",
       "      <td>0.320837</td>\n",
       "      <td>1.106531</td>\n",
       "    </tr>\n",
       "  </tbody>\n",
       "</table>\n",
       "<p>1786 rows × 5 columns</p>\n",
       "</div>"
      ],
      "text/plain": [
       "           Cab        tb       Att       Abb      Rtau\n",
       "0     0.917392  4.841104  0.591981  0.385519  1.248548\n",
       "1    -0.759024  0.602346  0.035786  0.089121  1.082559\n",
       "2    -0.870205  0.507111  0.236409  0.683191  1.078357\n",
       "3     0.827463  4.883818  0.711549  0.199160  1.242891\n",
       "4    -0.885287  3.560495  0.910994  0.845646  1.265032\n",
       "5    -0.533778  0.517636  0.315387  0.448193  1.112463\n",
       "6    -0.923057  2.783380  0.997891  0.551182  1.008556\n",
       "7    -0.820661  0.363520  0.760829  0.274643  1.051846\n",
       "8    -0.991711  4.856205  0.509197  0.070848  1.078346\n",
       "9     0.883474  2.843722  0.971588  0.136834  0.978294\n",
       "10   -0.605783  0.631469  0.013787  0.088042  0.974794\n",
       "11    0.948633  4.497188  0.570952  0.484222  1.142414\n",
       "12    0.860527  4.452915  0.707946  0.580195  1.239203\n",
       "13    0.738568  4.476720  0.835650  0.520087  0.976785\n",
       "14    0.958072  4.292663  0.574151  0.252045  1.059695\n",
       "15   -0.359537  0.509104  0.275375  0.876854  0.994358\n",
       "16   -0.410254  0.565521  0.035232  0.087290  1.046652\n",
       "17   -0.137546  0.304083  0.534340  0.536704  1.193847\n",
       "18    0.990353  3.107485  0.764275  0.475184  1.088425\n",
       "19   -0.282885  0.350096  0.689154  0.187824  1.247781\n",
       "20   -0.372487  0.314247  0.939698  0.150418  1.207697\n",
       "21   -0.950214  0.452057  0.225638  0.682284  1.074646\n",
       "22   -0.210363  0.396693  0.421053  0.541066  1.086347\n",
       "23   -0.912328  4.851908  0.620628  0.182108  1.168628\n",
       "24    0.825792  3.861570  0.904897  0.023087  1.261992\n",
       "25   -0.042380  0.185549  0.951574  0.425120  1.008061\n",
       "26    0.844442  3.862077  0.724846  0.967515  0.941596\n",
       "27    0.755984  4.290929  0.884200  0.759548  1.118159\n",
       "28    0.718085  4.834135  0.933190  0.493714  1.263176\n",
       "29   -0.224849  0.371454  0.746371  0.377764  0.967570\n",
       "...        ...       ...       ...       ...       ...\n",
       "1756 -0.148825  0.331729  0.772673  0.108359  0.957440\n",
       "1757 -0.886286  3.279448  0.945519  0.813441  1.130912\n",
       "1758 -0.870358  3.902389  0.871249  0.075230  1.249057\n",
       "1759  0.904643  3.009766  0.865657  0.880494  0.995991\n",
       "1760  0.773654  4.467567  0.789137  0.167056  1.005079\n",
       "1761 -0.876734  0.275151  0.934046  0.067100  1.107623\n",
       "1762 -0.562515  0.556582  0.112258  0.053532  1.209022\n",
       "1763 -0.877568  3.251300  0.952827  0.204142  1.041713\n",
       "1764 -0.154532  0.238133  0.947177  0.610775  1.210746\n",
       "1765  0.834607  3.677182  0.919846  0.625598  1.273843\n",
       "1766  0.902509  4.698089  0.603866  0.193586  1.131692\n",
       "1767  0.745872  4.143734  0.916653  0.633396  1.055251\n",
       "1768 -0.777678  4.698692  0.782427  0.605757  0.969047\n",
       "1769 -0.316835  0.499478  0.250563  0.916083  0.987139\n",
       "1770 -0.940585  4.418394  0.607737  0.255536  1.049656\n",
       "1771 -0.104976  0.330690  0.213395  0.715364  1.109186\n",
       "1772 -0.967348  3.741121  0.679653  0.780718  1.108745\n",
       "1773  0.877970  3.250533  0.894283  0.904565  1.134166\n",
       "1774  0.997133  3.461024  0.660766  0.291702  1.018004\n",
       "1775  0.785971  4.701813  0.712690  0.814692  1.016514\n",
       "1776  0.974302  3.059629  0.791104  0.489667  1.080603\n",
       "1777 -0.958136  3.085201  0.880007  0.702342  1.174374\n",
       "1778 -0.628425  0.630712  0.022560  0.517669  0.974539\n",
       "1779 -0.616514  0.543683  0.306096  0.515227  1.010962\n",
       "1780  0.939551  3.874012  0.623328  0.556638  0.987580\n",
       "1781  0.889091  4.495638  0.590325  0.541888  0.979187\n",
       "1782 -0.901546  3.430947  0.833506  0.916154  1.033605\n",
       "1783 -0.105816  0.279189  0.908111  0.579093  0.958712\n",
       "1784 -0.791840  4.635783  0.773650  0.170651  0.947376\n",
       "1785  0.798136  4.920753  0.709210  0.320837  1.106531\n",
       "\n",
       "[1786 rows x 5 columns]"
      ]
     },
     "execution_count": 27,
     "metadata": {},
     "output_type": "execute_result"
    }
   ],
   "source": [
    "%time\n",
    "data1s_rtau,data2s_rtau =Rtau.parameter_space2(\n",
    "    rtautau,n=100000,Cab=[-1.0,1.0],tb=[0.1,5.0],\n",
    "    Att=[0.0,1.0],Abb=[0.0,1.0])\n",
    "data1s_rtau"
   ]
  },
  {
   "cell_type": "code",
   "execution_count": 28,
   "metadata": {
    "Collapsed": "false"
   },
   "outputs": [
    {
     "data": {
      "text/plain": [
       "'Rtau'"
      ]
     },
     "execution_count": 28,
     "metadata": {},
     "output_type": "execute_result"
    }
   ],
   "source": [
    "Rtau.latex_name"
   ]
  },
  {
   "cell_type": "code",
   "execution_count": 29,
   "metadata": {
    "Collapsed": "false"
   },
   "outputs": [
    {
     "data": {
      "image/png": "[encoded data removed]",
      "text/plain": [
       "<Figure size 432x288 with 1 Axes>"
      ]
     },
     "metadata": {
      "needs_background": "light"
     },
     "output_type": "display_data"
    }
   ],
   "source": [
    "latex_names = {'Cab':r'$\\cos(\\alpha -\\beta)$',\n",
    "        'tb':r'$\\tan(\\beta)$',\n",
    "        'Att':r'$A_{tt}$','Abb':r'$A_{bb}$','Rtau':r'$R_{\\tau}$',\n",
    "        'Rb':r'$R_b$','Rgamma':r'$R_{\\gamma}$','Rw':r'$R_{W}$','Rz':r'$R_{Z}$'}\n",
    "plot_df(data1s_rtau,colx='Cab',coly='tb',\n",
    "        latex_names=latex_names)"
   ]
  },
  {
   "cell_type": "code",
   "execution_count": 31,
   "metadata": {
    "Collapsed": "false"
   },
   "outputs": [
    {
     "data": {
      "image/png": "[encoded data removed]",
      "text/plain": [
       "<Figure size 432x288 with 4 Axes>"
      ]
     },
     "metadata": {
      "needs_background": "light"
     },
     "output_type": "display_data"
    }
   ],
   "source": [
    "#list(data1s_rtau.keys()).remove('Cab')\n",
    "plot_tabledf(data1s_rtau,coly='Rtau',latex_names=latex_names)"
   ]
  },
  {
   "cell_type": "code",
   "execution_count": null,
   "metadata": {
    "Collapsed": "false"
   },
   "outputs": [],
   "source": []
  },
  {
   "cell_type": "code",
   "execution_count": 13,
   "metadata": {
    "Collapsed": "false"
   },
   "outputs": [],
   "source": []
  }
 ],
 "metadata": {
  "kernelspec": {
   "display_name": "Python 3",
   "language": "python",
   "name": "python3"
  },
  "language_info": {
   "codemirror_mode": {
    "name": "ipython",
    "version": 3
   },
   "file_extension": ".py",
   "mimetype": "text/x-python",
   "name": "python",
   "nbconvert_exporter": "python",
   "pygments_lexer": "ipython3",
   "version": "3.7.3"
  }
 },
 "nbformat": 4,
 "nbformat_minor": 4
}
