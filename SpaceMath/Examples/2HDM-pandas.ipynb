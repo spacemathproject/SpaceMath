{
 "cells": [
  {
   "cell_type": "code",
   "execution_count": 1,
   "metadata": {
    "Collapsed": "false"
   },
   "outputs": [],
   "source": [
    "from RXX import *\n",
    "from spacemath import *\n",
    "import matplotlib.pyplot as plt\n",
    "%matplotlib inline"
   ]
  },
  {
   "cell_type": "markdown",
   "metadata": {
    "Collapsed": "false"
   },
   "source": [
    "# 2HDM"
   ]
  },
  {
   "cell_type": "markdown",
   "metadata": {
    "Collapsed": "false"
   },
   "source": [
    "## Couplings\n",
    "In the context of 2HDM-III can define the couplings $g_{htt}$, $g_{hbb}$, $g_{h\\tau\\tau}$ and $g_{hWW}$"
   ]
  },
  {
   "cell_type": "code",
   "execution_count": 2,
   "metadata": {
    "Collapsed": "false"
   },
   "outputs": [],
   "source": [
    "#2HDM-III\n",
    "def ghtt_2hdm(α,Att,Cab,tb):\n",
    "    global mW,mt,g,SMvev\n",
    "    if issymbolic(α,Att,Cab,tb):\n",
    "        MW,Mt= mW['symbol'],mt['symbol']\n",
    "        return (g['symbol']/2)*(Mt/MW)*(-sp.cos(α)/tb*sp.cos(sp.atan(tb)) + \n",
    "                sp.sqrt(2)*Cab/(g['symbol']*tb*sp.cos(sp.atan(tb)))*(MW/Mt)*(\n",
    "                    Mt/SMvev['symbol'])*Att)\n",
    "    else:\n",
    "        MW,Mt= mW['value'],mt['value']\n",
    "        return (g['value']/2)*(Mt/MW)*(-np.cos(α)/tb*np.cos(np.arctan(tb)) + \n",
    "                np.sqrt(2)*Cab/(g['value']*tb*np.cos(np.arctan(tb)))*(MW/Mt)*(\n",
    "                    Mt/SMvev['value'])*Att)"
   ]
  },
  {
   "cell_type": "markdown",
   "metadata": {
    "Collapsed": "false"
   },
   "source": [
    "symbolic definition of variables"
   ]
  },
  {
   "cell_type": "code",
   "execution_count": 3,
   "metadata": {
    "Collapsed": "false"
   },
   "outputs": [
    {
     "data": {
      "image/png": "[encoded data removed]",
      "text/latex": [
       "$\\displaystyle \\frac{g m_{t} \\left(\\frac{\\sqrt{2} A_{tt} C_{ab} m_{W} \\sqrt{t_{b}^{2} + 1}}{g t_{b} v} - \\frac{\\cos{\\left(\\alpha \\right)}}{t_{b} \\sqrt{t_{b}^{2} + 1}}\\right)}{2 m_{W}}$"
      ],
      "text/plain": [
       "     ⎛                        __________                    ⎞\n",
       "     ⎜                       ╱    2                         ⎟\n",
       "     ⎜√2⋅A_{tt}⋅C_{ab}⋅m_W⋅╲╱  t_b  + 1          cos(α)     ⎟\n",
       "g⋅mₜ⋅⎜────────────────────────────────── - ─────────────────⎟\n",
       "     ⎜             g⋅t_b⋅v                        __________⎟\n",
       "     ⎜                                           ╱    2     ⎟\n",
       "     ⎝                                     t_b⋅╲╱  t_b  + 1 ⎠\n",
       "─────────────────────────────────────────────────────────────\n",
       "                            2⋅m_W                            "
      ]
     },
     "execution_count": 3,
     "metadata": {},
     "output_type": "execute_result"
    }
   ],
   "source": [
    "a,Att,Cab,tb = sp.symbols('alpha,A_{tt},C_{ab},t_b')\n",
    "ghtt_2hdm(a,Att,Cab,tb)"
   ]
  },
  {
   "cell_type": "markdown",
   "metadata": {
    "Collapsed": "false"
   },
   "source": [
    "numeric evaluation"
   ]
  },
  {
   "cell_type": "code",
   "execution_count": 4,
   "metadata": {
    "Collapsed": "false"
   },
   "outputs": [
    {
     "data": {
      "image/png": "[encoded data removed]",
      "text/latex": [
       "$\\displaystyle -1.545764653436345$"
      ],
      "text/plain": [
       "-1.545764653436345"
      ]
     },
     "execution_count": 4,
     "metadata": {},
     "output_type": "execute_result"
    }
   ],
   "source": [
    "ghtt_2hdm(0.1,0.2,0.3,0.4)"
   ]
  },
  {
   "cell_type": "code",
   "execution_count": 5,
   "metadata": {
    "Collapsed": "false"
   },
   "outputs": [],
   "source": [
    "def ghbb_2hdm(α,Abb,Cab,tb):\n",
    "    global mW,mb,g,SMvev\n",
    "    if issymbolic(α,Abb,Cab,tb):\n",
    "        MW,Mb= mW['symbol'],mb['symbol']\n",
    "        return (g['symbol']/2)*(Mb/MW)*(-sp.sin(α)*tb/sp.sin(sp.atan(tb)) + \n",
    "                sp.sqrt(2)*(Cab*tb)/(g['symbol']*sp.sin(sp.atan(tb)))*(MW/Mb)*(\n",
    "                    Mb/SMvev['symbol'])*Abb)\n",
    "    else:\n",
    "        MW,Mb= mW['value'],mb['value']\n",
    "        return (g['value']/2)*(Mb/MW)*(-np.sin(α)*tb/np.sin(np.arctan(tb)) + \n",
    "                np.sqrt(2)*(Cab*tb)/(g['value']*np.sin(np.arctan(tb)))*(MW/Mb)*(\n",
    "                    Mb/SMvev['value'])*Abb)"
   ]
  },
  {
   "cell_type": "markdown",
   "metadata": {
    "Collapsed": "false"
   },
   "source": [
    "symbolic evaluation"
   ]
  },
  {
   "cell_type": "code",
   "execution_count": 6,
   "metadata": {
    "Collapsed": "false"
   },
   "outputs": [
    {
     "data": {
      "image/png": "[encoded data removed]",
      "text/latex": [
       "$\\displaystyle \\frac{g m_{b} \\left(\\frac{\\sqrt{2} A_{bb} C_{ab} m_{W} \\sqrt{t_{b}^{2} + 1}}{g v} - \\sqrt{t_{b}^{2} + 1} \\sin{\\left(\\alpha \\right)}\\right)}{2 m_{W}}$"
      ],
      "text/plain": [
       "      ⎛                      __________                       ⎞\n",
       "      ⎜                     ╱    2           __________       ⎟\n",
       "      ⎜√2⋅A_bb⋅C_{ab}⋅m_W⋅╲╱  t_b  + 1      ╱    2            ⎟\n",
       "g⋅m_b⋅⎜──────────────────────────────── - ╲╱  t_b  + 1 ⋅sin(α)⎟\n",
       "      ⎝              g⋅v                                      ⎠\n",
       "───────────────────────────────────────────────────────────────\n",
       "                             2⋅m_W                             "
      ]
     },
     "execution_count": 6,
     "metadata": {},
     "output_type": "execute_result"
    }
   ],
   "source": [
    "Abb = sp.symbols('A_bb')    \n",
    "ghbb_2hdm(a,Abb,Cab,tb)"
   ]
  },
  {
   "cell_type": "markdown",
   "metadata": {
    "Collapsed": "false"
   },
   "source": [
    "numeric evaluation"
   ]
  },
  {
   "cell_type": "code",
   "execution_count": 7,
   "metadata": {
    "Collapsed": "false"
   },
   "outputs": [
    {
     "data": {
      "image/png": "[encoded data removed]",
      "text/latex": [
       "$\\displaystyle -0.0010505944329082069$"
      ],
      "text/plain": [
       "-0.0010505944329082069"
      ]
     },
     "execution_count": 7,
     "metadata": {},
     "output_type": "execute_result"
    }
   ],
   "source": [
    "ghbb_2hdm(0.1,0.2,0.3,0.4)"
   ]
  },
  {
   "cell_type": "code",
   "execution_count": 8,
   "metadata": {
    "Collapsed": "false"
   },
   "outputs": [
    {
     "data": {
      "image/png": "[encoded data removed]",
      "text/latex": [
       "$\\displaystyle -0.00033946954860783365$"
      ],
      "text/plain": [
       "-0.00033946954860783365"
      ]
     },
     "execution_count": 8,
     "metadata": {},
     "output_type": "execute_result"
    }
   ],
   "source": [
    "def ghtautau_2hdm(α,Atata,Cab,tb):\n",
    "    global mW,mta,g,SMvev\n",
    "    if issymbolic(α,Atata,Cab,tb):\n",
    "        MW,Mtau= mW['symbol'],mta['symbol']\n",
    "        return (g['symbol']/2)*(Mtau/MW)*(-sp.sin(α)*tb/sp.sin(sp.atan(tb)) + \n",
    "                sp.sqrt(2)*(Cab*tb)/(g['symbol']*sp.sin(sp.atan(tb)))*(MW/Mtau)*(\n",
    "                    Mtau/SMvev['symbol'])*Atata)\n",
    "    else:\n",
    "        MW,Mtau= mW['value'],mta['value']\n",
    "        return (g['value']/2)*(Mtau/MW)*(-np.sin(α)/tb*np.sin(np.arctan(tb)) + \n",
    "                np.sqrt(2)*(Cab*tb)/(g['value']*np.sin(np.arctan(tb)))*(MW/Mtau)*(\n",
    "                    Mtau/SMvev['value'])*Atata)\n",
    "\n",
    "Atata = sp.symbols(r'A_{\\tau\\tau}')    \n",
    "ghtautau_2hdm(a,Atata,Cab,tb)\n",
    "ghtautau_2hdm(0.1,0.2,0.3,0.4)"
   ]
  },
  {
   "cell_type": "code",
   "execution_count": 9,
   "metadata": {
    "Collapsed": "false"
   },
   "outputs": [
    {
     "data": {
      "image/png": "[encoded data removed]",
      "text/latex": [
       "$\\displaystyle 5.252669626829269$"
      ],
      "text/plain": [
       "5.252669626829269"
      ]
     },
     "execution_count": 9,
     "metadata": {},
     "output_type": "execute_result"
    }
   ],
   "source": [
    "def ghww_2hdm(sab):\n",
    "    global mW,g\n",
    "    if issymbolic(sab):\n",
    "        MW,gg= mW['symbol'],g['symbol']\n",
    "        return gg*MW*sab\n",
    "    else:\n",
    "        MW,gg= mW['value'],g['value']\n",
    "        return gg*MW*sab\n",
    "\n",
    "sab = sp.symbols('s_{ab}',real=True)\n",
    "ghww_2hdm(sab)\n",
    "ghww_2hdm(0.1)"
   ]
  },
  {
   "cell_type": "code",
   "execution_count": 10,
   "metadata": {
    "Collapsed": "false"
   },
   "outputs": [
    {
     "data": {
      "image/png": "[encoded data removed]",
      "text/latex": [
       "$\\displaystyle 5.958998455609756$"
      ],
      "text/plain": [
       "5.958998455609756"
      ]
     },
     "execution_count": 10,
     "metadata": {},
     "output_type": "execute_result"
    }
   ],
   "source": [
    "def ghzz_2hdm(sab):\n",
    "    global mZ,g\n",
    "    if issymbolic(sab):\n",
    "        MZ,gg= mZ['symbol'],g['symbol']\n",
    "        return gg*MZ*sab\n",
    "    else:\n",
    "        MZ,gg= mZ['value'],g['value']\n",
    "        return gg*MZ*sab\n",
    "\n",
    "#sab = sp.symbols('s_{ab}',real=True)\n",
    "ghzz_2hdm(sab)\n",
    "ghzz_2hdm(0.1)"
   ]
  },
  {
   "cell_type": "markdown",
   "metadata": {
    "Collapsed": "false"
   },
   "source": [
    "## Signal Strenght functions\n",
    "\n",
    "Now, we need to define our Higgs streght signals in terms of our variables"
   ]
  },
  {
   "cell_type": "code",
   "execution_count": 11,
   "metadata": {
    "Collapsed": "false"
   },
   "outputs": [],
   "source": [
    "rtautau = lambda Cab,tb,Att,Abb: Rtata(\n",
    "    ghtt_2hdm(np.arccos(Cab) + np.arctan(tb),Att,Cab,tb),\n",
    "    ghbb_2hdm(np.arccos(Cab) + np.arctan(tb),Abb,Cab,tb),\n",
    "    ghtautau_2hdm(np.arccos(Cab) + np.arctan(tb),1,Cab,tb))\n",
    "\n",
    "rbb = lambda Cab,tb,Att,Abb:Rbotbot(\n",
    "    ghtt_2hdm(np.arccos(Cab) + np.arctan(tb),Att,Cab,tb),\n",
    "    ghbb_2hdm(np.arccos(Cab) + np.arctan(tb),Abb,Cab,tb))\n",
    "\n",
    "rgaga = lambda Cab,tb,Att,Abb,mCH:Rgaga(\n",
    "    ghtt_2hdm(np.arccos(Cab) + np.arctan(tb),Att,Cab,tb),\n",
    "    ghbb_2hdm(np.arccos(Cab) + np.arctan(tb),Abb,Cab,tb),\n",
    "    ghww_2hdm(np.sqrt(1 - Cab**2)), 0, mCH)\n",
    "\n",
    "rww = lambda Cab,tb,Att,Abb:RWW(\n",
    "    ghtt_2hdm(np.arccos(Cab) + np.arctan(tb),Att,Cab,tb),\n",
    "    ghbb_2hdm(np.arccos(Cab) + np.arctan(tb),Abb,Cab,tb),\n",
    "    ghww_2hdm(np.sqrt(1 - Cab**2)))\n",
    "\n",
    "rzz = lambda Cab,tb,Att,Abb:RWW(\n",
    "    ghtt_2hdm(np.arccos(Cab) + np.arctan(tb),Att,Cab,tb),\n",
    "    ghbb_2hdm(np.arccos(Cab) + np.arctan(tb),Abb,Cab,tb),\n",
    "    ghzz_2hdm(np.sqrt(1 - Cab**2)))"
   ]
  },
  {
   "cell_type": "markdown",
   "metadata": {
    "Collapsed": "false"
   },
   "source": [
    "## Allowed parameter space\n",
    "\n",
    "We calculate the allowed parameter space to each signal"
   ]
  },
  {
   "cell_type": "code",
   "execution_count": 15,
   "metadata": {
    "Collapsed": "false"
   },
   "outputs": [
    {
     "name": "stdout",
     "output_type": "stream",
     "text": [
      "CPU times: user 5 µs, sys: 1 µs, total: 6 µs\n",
      "Wall time: 9.54 µs\n"
     ]
    },
    {
     "data": {
      "text/html": [
       "<div>\n",
       "<style scoped>\n",
       "    .dataframe tbody tr th:only-of-type {\n",
       "        vertical-align: middle;\n",
       "    }\n",
       "\n",
       "    .dataframe tbody tr th {\n",
       "        vertical-align: top;\n",
       "    }\n",
       "\n",
       "    .dataframe thead th {\n",
       "        text-align: right;\n",
       "    }\n",
       "</style>\n",
       "<table border=\"1\" class=\"dataframe\">\n",
       "  <thead>\n",
       "    <tr style=\"text-align: right;\">\n",
       "      <th></th>\n",
       "      <th>Cab</th>\n",
       "      <th>tb</th>\n",
       "      <th>Att</th>\n",
       "      <th>Abb</th>\n",
       "      <th>Rtau</th>\n",
       "    </tr>\n",
       "  </thead>\n",
       "  <tbody>\n",
       "    <tr>\n",
       "      <th>0</th>\n",
       "      <td>0.736838</td>\n",
       "      <td>0.146538</td>\n",
       "      <td>0.056901</td>\n",
       "      <td>0.848282</td>\n",
       "      <td>0.942665</td>\n",
       "    </tr>\n",
       "    <tr>\n",
       "      <th>1</th>\n",
       "      <td>-0.078033</td>\n",
       "      <td>0.187686</td>\n",
       "      <td>0.870077</td>\n",
       "      <td>0.753592</td>\n",
       "      <td>1.197465</td>\n",
       "    </tr>\n",
       "    <tr>\n",
       "      <th>2</th>\n",
       "      <td>-0.757885</td>\n",
       "      <td>0.529742</td>\n",
       "      <td>0.343295</td>\n",
       "      <td>0.834047</td>\n",
       "      <td>0.956737</td>\n",
       "    </tr>\n",
       "    <tr>\n",
       "      <th>3</th>\n",
       "      <td>-0.811771</td>\n",
       "      <td>0.442349</td>\n",
       "      <td>0.445366</td>\n",
       "      <td>0.024704</td>\n",
       "      <td>1.266083</td>\n",
       "    </tr>\n",
       "    <tr>\n",
       "      <th>4</th>\n",
       "      <td>-0.146876</td>\n",
       "      <td>0.364096</td>\n",
       "      <td>0.487237</td>\n",
       "      <td>0.802967</td>\n",
       "      <td>0.997488</td>\n",
       "    </tr>\n",
       "    <tr>\n",
       "      <th>...</th>\n",
       "      <td>...</td>\n",
       "      <td>...</td>\n",
       "      <td>...</td>\n",
       "      <td>...</td>\n",
       "      <td>...</td>\n",
       "    </tr>\n",
       "    <tr>\n",
       "      <th>1864</th>\n",
       "      <td>-0.846675</td>\n",
       "      <td>4.170434</td>\n",
       "      <td>0.817024</td>\n",
       "      <td>0.807759</td>\n",
       "      <td>1.185912</td>\n",
       "    </tr>\n",
       "    <tr>\n",
       "      <th>1865</th>\n",
       "      <td>-0.235313</td>\n",
       "      <td>0.296698</td>\n",
       "      <td>0.958812</td>\n",
       "      <td>0.860749</td>\n",
       "      <td>1.099764</td>\n",
       "    </tr>\n",
       "    <tr>\n",
       "      <th>1866</th>\n",
       "      <td>0.856184</td>\n",
       "      <td>2.912423</td>\n",
       "      <td>0.982248</td>\n",
       "      <td>0.871374</td>\n",
       "      <td>0.971852</td>\n",
       "    </tr>\n",
       "    <tr>\n",
       "      <th>1867</th>\n",
       "      <td>0.898084</td>\n",
       "      <td>2.844115</td>\n",
       "      <td>0.982918</td>\n",
       "      <td>0.906029</td>\n",
       "      <td>1.098313</td>\n",
       "    </tr>\n",
       "    <tr>\n",
       "      <th>1868</th>\n",
       "      <td>0.750249</td>\n",
       "      <td>3.713046</td>\n",
       "      <td>0.978096</td>\n",
       "      <td>0.024330</td>\n",
       "      <td>0.950030</td>\n",
       "    </tr>\n",
       "  </tbody>\n",
       "</table>\n",
       "<p>1869 rows × 5 columns</p>\n",
       "</div>"
      ],
      "text/plain": [
       "           Cab        tb       Att       Abb      Rtau\n",
       "0     0.736838  0.146538  0.056901  0.848282  0.942665\n",
       "1    -0.078033  0.187686  0.870077  0.753592  1.197465\n",
       "2    -0.757885  0.529742  0.343295  0.834047  0.956737\n",
       "3    -0.811771  0.442349  0.445366  0.024704  1.266083\n",
       "4    -0.146876  0.364096  0.487237  0.802967  0.997488\n",
       "...        ...       ...       ...       ...       ...\n",
       "1864 -0.846675  4.170434  0.817024  0.807759  1.185912\n",
       "1865 -0.235313  0.296698  0.958812  0.860749  1.099764\n",
       "1866  0.856184  2.912423  0.982248  0.871374  0.971852\n",
       "1867  0.898084  2.844115  0.982918  0.906029  1.098313\n",
       "1868  0.750249  3.713046  0.978096  0.024330  0.950030\n",
       "\n",
       "[1869 rows x 5 columns]"
      ]
     },
     "execution_count": 15,
     "metadata": {},
     "output_type": "execute_result"
    }
   ],
   "source": [
    "%time\n",
    "data1s_rtau,data2s_rtau =Rtau.parameter_space2(\n",
    "    rtautau,n=100000,Cab=[-1.0,1.0],tb=[0.1,5.0],\n",
    "    Att=[0.0,1.0],Abb=[0.0,1.0])\n",
    "data1s_rtau"
   ]
  },
  {
   "cell_type": "code",
   "execution_count": 16,
   "metadata": {
    "Collapsed": "false"
   },
   "outputs": [
    {
     "data": {
      "image/png": "[encoded data removed]",
      "text/plain": [
       "<Figure size 432x288 with 1 Axes>"
      ]
     },
     "metadata": {
      "needs_background": "light"
     },
     "output_type": "display_data"
    }
   ],
   "source": [
    "latex_names = {'Cab':r'$\\cos(\\alpha -\\beta)$',\n",
    "        'tb':r'$\\tan(\\beta)$',\n",
    "        'Att':r'$A_{tt}$','Abb':r'$A_{bb}$','Rtau':r'$R_{\\tau}$',\n",
    "        'Rb':r'$R_b$','Rgamma':r'$R_{\\gamma}$','Rw':r'$R_{W}$','Rz':r'$R_{Z}$'}\n",
    "plot_df(data1s_rtau,colx='Cab',coly='tb',\n",
    "        latex_names=latex_names)"
   ]
  },
  {
   "cell_type": "code",
   "execution_count": 19,
   "metadata": {
    "Collapsed": "false"
   },
   "outputs": [
    {
     "data": {
      "image/png": "[encoded data removed]",
      "text/plain": [
       "<Figure size 432x288 with 4 Axes>"
      ]
     },
     "metadata": {
      "needs_background": "light"
     },
     "output_type": "display_data"
    }
   ],
   "source": [
    "#list(data1s_rtau.keys()).remove('Cab')\n",
    "plot_tabledf(data1s_rtau,coly='tb',latex_names=latex_names)"
   ]
  },
  {
   "cell_type": "code",
   "execution_count": null,
   "metadata": {
    "Collapsed": "false"
   },
   "outputs": [],
   "source": []
  },
  {
   "cell_type": "code",
   "execution_count": 13,
   "metadata": {
    "Collapsed": "false"
   },
   "outputs": [],
   "source": []
  }
 ],
 "metadata": {
  "kernelspec": {
   "display_name": "Python 3",
   "language": "python",
   "name": "python3"
  },
  "language_info": {
   "codemirror_mode": {
    "name": "ipython",
    "version": 3
   },
   "file_extension": ".py",
   "mimetype": "text/x-python",
   "name": "python",
   "nbconvert_exporter": "python",
   "pygments_lexer": "ipython3",
   "version": "3.7.3"
  }
 },
 "nbformat": 4,
 "nbformat_minor": 4
}
