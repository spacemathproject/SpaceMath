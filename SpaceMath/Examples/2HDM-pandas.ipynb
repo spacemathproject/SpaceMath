{
 "cells": [
  {
   "cell_type": "code",
   "execution_count": 1,
   "metadata": {
    "Collapsed": "false"
   },
   "outputs": [],
   "source": [
    "from spacemathpy import *\n",
    "import matplotlib.pyplot as plt\n",
    "%matplotlib inline"
   ]
  },
  {
   "cell_type": "markdown",
   "metadata": {
    "Collapsed": "false"
   },
   "source": [
    "# 2HDM"
   ]
  },
  {
   "cell_type": "markdown",
   "metadata": {
    "Collapsed": "false"
   },
   "source": [
    "## Couplings\n",
    "In the context of 2HDM-III can define the couplings $g_{htt}$, $g_{hbb}$, $g_{h\\tau\\tau}$ and $g_{hWW}$"
   ]
  },
  {
   "cell_type": "code",
   "execution_count": 2,
   "metadata": {
    "Collapsed": "false"
   },
   "outputs": [],
   "source": [
    "#2HDM-III\n",
    "def ghtt_2hdm(α,Att,Cab,tb):\n",
    "    global mW,mt,g,SMvev\n",
    "    if issymbolic(α,Att,Cab,tb):\n",
    "        MW,Mt= mW['symbol'],mt['symbol']\n",
    "        return (g['symbol']/2)*(Mt/MW)*(-sp.cos(α)/tb*sp.cos(sp.atan(tb)) + \n",
    "                sp.sqrt(2)*Cab/(g['symbol']*tb*sp.cos(sp.atan(tb)))*(MW/Mt)*(\n",
    "                    Mt/SMvev['symbol'])*Att)\n",
    "    else:\n",
    "        MW,Mt= mW['value'],mt['value']\n",
    "        return (g['value']/2)*(Mt/MW)*(-np.cos(α)/tb*np.cos(np.arctan(tb)) + \n",
    "                np.sqrt(2)*Cab/(g['value']*tb*np.cos(np.arctan(tb)))*(MW/Mt)*(\n",
    "                    Mt/SMvev['value'])*Att)"
   ]
  },
  {
   "cell_type": "markdown",
   "metadata": {
    "Collapsed": "false"
   },
   "source": [
    "symbolic definition of variables"
   ]
  },
  {
   "cell_type": "code",
   "execution_count": 3,
   "metadata": {
    "Collapsed": "false"
   },
   "outputs": [
    {
     "data": {
      "image/png": "[encoded data removed]",
      "text/latex": [
       "$\\displaystyle \\frac{g m_{t} \\left(\\frac{\\sqrt{2} A_{tt} C_{ab} m_{W} \\sqrt{t_{b}^{2} + 1}}{g t_{b} v} - \\frac{\\cos{\\left(\\alpha \\right)}}{t_{b} \\sqrt{t_{b}^{2} + 1}}\\right)}{2 m_{W}}$"
      ],
      "text/plain": [
       "     ⎛                        __________                    ⎞\n",
       "     ⎜                       ╱    2                         ⎟\n",
       "     ⎜√2⋅A_{tt}⋅C_{ab}⋅m_W⋅╲╱  t_b  + 1          cos(α)     ⎟\n",
       "g⋅mₜ⋅⎜────────────────────────────────── - ─────────────────⎟\n",
       "     ⎜             g⋅t_b⋅v                        __________⎟\n",
       "     ⎜                                           ╱    2     ⎟\n",
       "     ⎝                                     t_b⋅╲╱  t_b  + 1 ⎠\n",
       "─────────────────────────────────────────────────────────────\n",
       "                            2⋅m_W                            "
      ]
     },
     "execution_count": 3,
     "metadata": {},
     "output_type": "execute_result"
    }
   ],
   "source": [
    "a,Att,Cab,tb = sp.symbols('alpha,A_{tt},C_{ab},t_b')\n",
    "ghtt_2hdm(a,Att,Cab,tb)"
   ]
  },
  {
   "cell_type": "markdown",
   "metadata": {
    "Collapsed": "false"
   },
   "source": [
    "numeric evaluation"
   ]
  },
  {
   "cell_type": "code",
   "execution_count": 4,
   "metadata": {
    "Collapsed": "false"
   },
   "outputs": [
    {
     "data": {
      "image/png": "[encoded data removed]",
      "text/latex": [
       "$\\displaystyle -1.545764653436345$"
      ],
      "text/plain": [
       "-1.545764653436345"
      ]
     },
     "execution_count": 4,
     "metadata": {},
     "output_type": "execute_result"
    }
   ],
   "source": [
    "ghtt_2hdm(0.1,0.2,0.3,0.4)"
   ]
  },
  {
   "cell_type": "code",
   "execution_count": 5,
   "metadata": {
    "Collapsed": "false"
   },
   "outputs": [],
   "source": [
    "def ghbb_2hdm(α,Abb,Cab,tb):\n",
    "    global mW,mb,g,SMvev\n",
    "    if issymbolic(α,Abb,Cab,tb):\n",
    "        MW,Mb= mW['symbol'],mb['symbol']\n",
    "        return (g['symbol']/2)*(Mb/MW)*(-sp.sin(α)*tb/sp.sin(sp.atan(tb)) + \n",
    "                sp.sqrt(2)*(Cab*tb)/(g['symbol']*sp.sin(sp.atan(tb)))*(MW/Mb)*(\n",
    "                    Mb/SMvev['symbol'])*Abb)\n",
    "    else:\n",
    "        MW,Mb= mW['value'],mb['value']\n",
    "        return (g['value']/2)*(Mb/MW)*(-np.sin(α)*tb/np.sin(np.arctan(tb)) + \n",
    "                np.sqrt(2)*(Cab*tb)/(g['value']*np.sin(np.arctan(tb)))*(MW/Mb)*(\n",
    "                    Mb/SMvev['value'])*Abb)"
   ]
  },
  {
   "cell_type": "markdown",
   "metadata": {
    "Collapsed": "false"
   },
   "source": [
    "symbolic evaluation"
   ]
  },
  {
   "cell_type": "code",
   "execution_count": 6,
   "metadata": {
    "Collapsed": "false"
   },
   "outputs": [
    {
     "data": {
      "image/png": "[encoded data removed]",
      "text/latex": [
       "$\\displaystyle \\frac{g m_{b} \\left(\\frac{\\sqrt{2} A_{bb} C_{ab} m_{W} \\sqrt{t_{b}^{2} + 1}}{g v} - \\sqrt{t_{b}^{2} + 1} \\sin{\\left(\\alpha \\right)}\\right)}{2 m_{W}}$"
      ],
      "text/plain": [
       "      ⎛                      __________                       ⎞\n",
       "      ⎜                     ╱    2           __________       ⎟\n",
       "      ⎜√2⋅A_bb⋅C_{ab}⋅m_W⋅╲╱  t_b  + 1      ╱    2            ⎟\n",
       "g⋅m_b⋅⎜──────────────────────────────── - ╲╱  t_b  + 1 ⋅sin(α)⎟\n",
       "      ⎝              g⋅v                                      ⎠\n",
       "───────────────────────────────────────────────────────────────\n",
       "                             2⋅m_W                             "
      ]
     },
     "execution_count": 6,
     "metadata": {},
     "output_type": "execute_result"
    }
   ],
   "source": [
    "Abb = sp.symbols('A_bb')    \n",
    "ghbb_2hdm(a,Abb,Cab,tb)"
   ]
  },
  {
   "cell_type": "markdown",
   "metadata": {
    "Collapsed": "false"
   },
   "source": [
    "numeric evaluation"
   ]
  },
  {
   "cell_type": "code",
   "execution_count": 7,
   "metadata": {
    "Collapsed": "false"
   },
   "outputs": [
    {
     "data": {
      "image/png": "[encoded data removed]",
      "text/latex": [
       "$\\displaystyle -0.0010505944329082069$"
      ],
      "text/plain": [
       "-0.0010505944329082069"
      ]
     },
     "execution_count": 7,
     "metadata": {},
     "output_type": "execute_result"
    }
   ],
   "source": [
    "ghbb_2hdm(0.1,0.2,0.3,0.4)"
   ]
  },
  {
   "cell_type": "code",
   "execution_count": 8,
   "metadata": {
    "Collapsed": "false"
   },
   "outputs": [
    {
     "data": {
      "image/png": "[encoded data removed]",
      "text/latex": [
       "$\\displaystyle -0.00033946954860783365$"
      ],
      "text/plain": [
       "-0.00033946954860783365"
      ]
     },
     "execution_count": 8,
     "metadata": {},
     "output_type": "execute_result"
    }
   ],
   "source": [
    "def ghtautau_2hdm(α,Atata,Cab,tb):\n",
    "    global mW,mta,g,SMvev\n",
    "    if issymbolic(α,Atata,Cab,tb):\n",
    "        MW,Mtau= mW['symbol'],mta['symbol']\n",
    "        return (g['symbol']/2)*(Mtau/MW)*(-sp.sin(α)*tb/sp.sin(sp.atan(tb)) + \n",
    "                sp.sqrt(2)*(Cab*tb)/(g['symbol']*sp.sin(sp.atan(tb)))*(MW/Mtau)*(\n",
    "                    Mtau/SMvev['symbol'])*Atata)\n",
    "    else:\n",
    "        MW,Mtau= mW['value'],mta['value']\n",
    "        return (g['value']/2)*(Mtau/MW)*(-np.sin(α)/tb*np.sin(np.arctan(tb)) + \n",
    "                np.sqrt(2)*(Cab*tb)/(g['value']*np.sin(np.arctan(tb)))*(MW/Mtau)*(\n",
    "                    Mtau/SMvev['value'])*Atata)\n",
    "\n",
    "Atata = sp.symbols(r'A_{\\tau\\tau}')    \n",
    "ghtautau_2hdm(a,Atata,Cab,tb)\n",
    "ghtautau_2hdm(0.1,0.2,0.3,0.4)"
   ]
  },
  {
   "cell_type": "code",
   "execution_count": 9,
   "metadata": {
    "Collapsed": "false"
   },
   "outputs": [
    {
     "data": {
      "image/png": "[encoded data removed]",
      "text/latex": [
       "$\\displaystyle 5.252669626829269$"
      ],
      "text/plain": [
       "5.252669626829269"
      ]
     },
     "execution_count": 9,
     "metadata": {},
     "output_type": "execute_result"
    }
   ],
   "source": [
    "def ghww_2hdm(sab):\n",
    "    global mW,g\n",
    "    if issymbolic(sab):\n",
    "        MW,gg= mW['symbol'],g['symbol']\n",
    "        return gg*MW*sab\n",
    "    else:\n",
    "        MW,gg= mW['value'],g['value']\n",
    "        return gg*MW*sab\n",
    "\n",
    "sab = sp.symbols('s_{ab}',real=True)\n",
    "ghww_2hdm(sab)\n",
    "ghww_2hdm(0.1)"
   ]
  },
  {
   "cell_type": "code",
   "execution_count": 10,
   "metadata": {
    "Collapsed": "false"
   },
   "outputs": [
    {
     "data": {
      "image/png": "[encoded data removed]",
      "text/latex": [
       "$\\displaystyle 5.958998455609756$"
      ],
      "text/plain": [
       "5.958998455609756"
      ]
     },
     "execution_count": 10,
     "metadata": {},
     "output_type": "execute_result"
    }
   ],
   "source": [
    "def ghzz_2hdm(sab):\n",
    "    global mZ,g\n",
    "    if issymbolic(sab):\n",
    "        MZ,gg= mZ['symbol'],g['symbol']\n",
    "        return gg*MZ*sab\n",
    "    else:\n",
    "        MZ,gg= mZ['value'],g['value']\n",
    "        return gg*MZ*sab\n",
    "\n",
    "#sab = sp.symbols('s_{ab}',real=True)\n",
    "ghzz_2hdm(sab)\n",
    "ghzz_2hdm(0.1)"
   ]
  },
  {
   "cell_type": "markdown",
   "metadata": {
    "Collapsed": "false"
   },
   "source": [
    "## Signal Strenght functions\n",
    "\n",
    "Now, we need to define our Higgs streght signals in terms of our variables"
   ]
  },
  {
   "cell_type": "code",
   "execution_count": 11,
   "metadata": {
    "Collapsed": "false"
   },
   "outputs": [],
   "source": [
    "rtautau = lambda Cab,tb,Att,Abb: Rtata(\n",
    "    ghtt_2hdm(np.arccos(Cab) + np.arctan(tb),Att,Cab,tb),\n",
    "    ghbb_2hdm(np.arccos(Cab) + np.arctan(tb),Abb,Cab,tb),\n",
    "    ghtautau_2hdm(np.arccos(Cab) + np.arctan(tb),1,Cab,tb))\n",
    "\n",
    "rbb = lambda Cab,tb,Att,Abb:Rbotbot(\n",
    "    ghtt_2hdm(np.arccos(Cab) + np.arctan(tb),Att,Cab,tb),\n",
    "    ghbb_2hdm(np.arccos(Cab) + np.arctan(tb),Abb,Cab,tb))\n",
    "\n",
    "rgaga = lambda Cab,tb,Att,Abb,mCH:Rgaga(\n",
    "    ghtt_2hdm(np.arccos(Cab) + np.arctan(tb),Att,Cab,tb),\n",
    "    ghbb_2hdm(np.arccos(Cab) + np.arctan(tb),Abb,Cab,tb),\n",
    "    ghww_2hdm(np.sqrt(1 - Cab**2)), 0, mCH)\n",
    "\n",
    "rww = lambda Cab,tb,Att,Abb:RWW(\n",
    "    ghtt_2hdm(np.arccos(Cab) + np.arctan(tb),Att,Cab,tb),\n",
    "    ghbb_2hdm(np.arccos(Cab) + np.arctan(tb),Abb,Cab,tb),\n",
    "    ghww_2hdm(np.sqrt(1 - Cab**2)))\n",
    "\n",
    "rzz = lambda Cab,tb,Att,Abb:RWW(\n",
    "    ghtt_2hdm(np.arccos(Cab) + np.arctan(tb),Att,Cab,tb),\n",
    "    ghbb_2hdm(np.arccos(Cab) + np.arctan(tb),Abb,Cab,tb),\n",
    "    ghzz_2hdm(np.sqrt(1 - Cab**2)))"
   ]
  },
  {
   "cell_type": "markdown",
   "metadata": {
    "Collapsed": "false"
   },
   "source": [
    "## Allowed parameter space\n",
    "\n",
    "We calculate the allowed parameter space to each signal"
   ]
  },
  {
   "cell_type": "code",
   "execution_count": 12,
   "metadata": {
    "Collapsed": "false"
   },
   "outputs": [
    {
     "name": "stdout",
     "output_type": "stream",
     "text": [
      "CPU times: user 3 µs, sys: 0 ns, total: 3 µs\n",
      "Wall time: 6.44 µs\n"
     ]
    },
    {
     "name": "stderr",
     "output_type": "stream",
     "text": [
      "/home/moises/miniconda3/lib/python3.7/site-packages/spacemathpy/RXX.py:41: RuntimeWarning: invalid value encountered in sqrt\n",
      "  return -(1/4)*(np.log((1+np.sqrt(1-(((mS**2)/(4*mtop**2))**-1)))/(1-np.sqrt(1-(((mS**2)/(4*mtop**2))**-1))))*(-sp.I*np.pi))**2\n"
     ]
    },
    {
     "data": {
      "text/html": [
       "<div>\n",
       "<style scoped>\n",
       "    .dataframe tbody tr th:only-of-type {\n",
       "        vertical-align: middle;\n",
       "    }\n",
       "\n",
       "    .dataframe tbody tr th {\n",
       "        vertical-align: top;\n",
       "    }\n",
       "\n",
       "    .dataframe thead th {\n",
       "        text-align: right;\n",
       "    }\n",
       "</style>\n",
       "<table border=\"1\" class=\"dataframe\">\n",
       "  <thead>\n",
       "    <tr style=\"text-align: right;\">\n",
       "      <th></th>\n",
       "      <th>Cab</th>\n",
       "      <th>tb</th>\n",
       "      <th>Att</th>\n",
       "      <th>Abb</th>\n",
       "      <th>Rtau</th>\n",
       "    </tr>\n",
       "  </thead>\n",
       "  <tbody>\n",
       "    <tr>\n",
       "      <th>0</th>\n",
       "      <td>-0.518405</td>\n",
       "      <td>0.465272</td>\n",
       "      <td>0.549802</td>\n",
       "      <td>0.254485</td>\n",
       "      <td>1.050462</td>\n",
       "    </tr>\n",
       "    <tr>\n",
       "      <th>1</th>\n",
       "      <td>0.944146</td>\n",
       "      <td>4.328548</td>\n",
       "      <td>0.602697</td>\n",
       "      <td>0.686248</td>\n",
       "      <td>1.191969</td>\n",
       "    </tr>\n",
       "    <tr>\n",
       "      <th>2</th>\n",
       "      <td>-0.988011</td>\n",
       "      <td>2.652152</td>\n",
       "      <td>0.953271</td>\n",
       "      <td>0.984399</td>\n",
       "      <td>1.138445</td>\n",
       "    </tr>\n",
       "    <tr>\n",
       "      <th>3</th>\n",
       "      <td>-0.178751</td>\n",
       "      <td>0.414549</td>\n",
       "      <td>0.340828</td>\n",
       "      <td>0.582339</td>\n",
       "      <td>0.972402</td>\n",
       "    </tr>\n",
       "    <tr>\n",
       "      <th>4</th>\n",
       "      <td>-0.336678</td>\n",
       "      <td>0.392813</td>\n",
       "      <td>0.637762</td>\n",
       "      <td>0.641356</td>\n",
       "      <td>1.164223</td>\n",
       "    </tr>\n",
       "    <tr>\n",
       "      <th>5</th>\n",
       "      <td>0.827505</td>\n",
       "      <td>3.750604</td>\n",
       "      <td>0.805010</td>\n",
       "      <td>0.084017</td>\n",
       "      <td>0.951521</td>\n",
       "    </tr>\n",
       "    <tr>\n",
       "      <th>6</th>\n",
       "      <td>0.899975</td>\n",
       "      <td>4.481629</td>\n",
       "      <td>0.633415</td>\n",
       "      <td>0.270692</td>\n",
       "      <td>1.141199</td>\n",
       "    </tr>\n",
       "    <tr>\n",
       "      <th>7</th>\n",
       "      <td>-0.329650</td>\n",
       "      <td>0.464061</td>\n",
       "      <td>0.420745</td>\n",
       "      <td>0.286516</td>\n",
       "      <td>1.022503</td>\n",
       "    </tr>\n",
       "    <tr>\n",
       "      <th>8</th>\n",
       "      <td>-0.882968</td>\n",
       "      <td>4.773378</td>\n",
       "      <td>0.608928</td>\n",
       "      <td>0.817900</td>\n",
       "      <td>1.016211</td>\n",
       "    </tr>\n",
       "    <tr>\n",
       "      <th>9</th>\n",
       "      <td>0.927659</td>\n",
       "      <td>4.173928</td>\n",
       "      <td>0.654431</td>\n",
       "      <td>0.386751</td>\n",
       "      <td>1.197116</td>\n",
       "    </tr>\n",
       "    <tr>\n",
       "      <th>10</th>\n",
       "      <td>-0.832719</td>\n",
       "      <td>3.713583</td>\n",
       "      <td>0.884199</td>\n",
       "      <td>0.584081</td>\n",
       "      <td>0.984704</td>\n",
       "    </tr>\n",
       "    <tr>\n",
       "      <th>11</th>\n",
       "      <td>0.792658</td>\n",
       "      <td>4.482211</td>\n",
       "      <td>0.727168</td>\n",
       "      <td>0.754180</td>\n",
       "      <td>0.990123</td>\n",
       "    </tr>\n",
       "    <tr>\n",
       "      <th>12</th>\n",
       "      <td>-0.689220</td>\n",
       "      <td>0.574361</td>\n",
       "      <td>0.105374</td>\n",
       "      <td>0.816826</td>\n",
       "      <td>1.155500</td>\n",
       "    </tr>\n",
       "    <tr>\n",
       "      <th>13</th>\n",
       "      <td>0.777973</td>\n",
       "      <td>4.617482</td>\n",
       "      <td>0.776722</td>\n",
       "      <td>0.566203</td>\n",
       "      <td>1.095674</td>\n",
       "    </tr>\n",
       "    <tr>\n",
       "      <th>14</th>\n",
       "      <td>-0.836341</td>\n",
       "      <td>3.872463</td>\n",
       "      <td>0.850033</td>\n",
       "      <td>0.020103</td>\n",
       "      <td>0.971589</td>\n",
       "    </tr>\n",
       "    <tr>\n",
       "      <th>15</th>\n",
       "      <td>0.692326</td>\n",
       "      <td>4.865402</td>\n",
       "      <td>0.870217</td>\n",
       "      <td>0.619171</td>\n",
       "      <td>0.976681</td>\n",
       "    </tr>\n",
       "    <tr>\n",
       "      <th>16</th>\n",
       "      <td>-0.765252</td>\n",
       "      <td>4.914422</td>\n",
       "      <td>0.789525</td>\n",
       "      <td>0.333627</td>\n",
       "      <td>0.994553</td>\n",
       "    </tr>\n",
       "    <tr>\n",
       "      <th>17</th>\n",
       "      <td>-0.963044</td>\n",
       "      <td>2.856016</td>\n",
       "      <td>0.900377</td>\n",
       "      <td>0.476300</td>\n",
       "      <td>1.033964</td>\n",
       "    </tr>\n",
       "    <tr>\n",
       "      <th>18</th>\n",
       "      <td>-0.034552</td>\n",
       "      <td>0.213149</td>\n",
       "      <td>0.224203</td>\n",
       "      <td>0.759980</td>\n",
       "      <td>1.084786</td>\n",
       "    </tr>\n",
       "    <tr>\n",
       "      <th>19</th>\n",
       "      <td>0.797422</td>\n",
       "      <td>3.766188</td>\n",
       "      <td>0.849197</td>\n",
       "      <td>0.437220</td>\n",
       "      <td>0.952665</td>\n",
       "    </tr>\n",
       "    <tr>\n",
       "      <th>20</th>\n",
       "      <td>-0.856075</td>\n",
       "      <td>3.679535</td>\n",
       "      <td>0.900374</td>\n",
       "      <td>0.308612</td>\n",
       "      <td>1.110605</td>\n",
       "    </tr>\n",
       "    <tr>\n",
       "      <th>21</th>\n",
       "      <td>-0.795674</td>\n",
       "      <td>0.468624</td>\n",
       "      <td>0.514709</td>\n",
       "      <td>0.232071</td>\n",
       "      <td>0.941861</td>\n",
       "    </tr>\n",
       "    <tr>\n",
       "      <th>22</th>\n",
       "      <td>-0.845972</td>\n",
       "      <td>0.404565</td>\n",
       "      <td>0.552180</td>\n",
       "      <td>0.402052</td>\n",
       "      <td>1.213709</td>\n",
       "    </tr>\n",
       "    <tr>\n",
       "      <th>23</th>\n",
       "      <td>0.952473</td>\n",
       "      <td>2.777441</td>\n",
       "      <td>0.971565</td>\n",
       "      <td>0.371173</td>\n",
       "      <td>1.221032</td>\n",
       "    </tr>\n",
       "    <tr>\n",
       "      <th>24</th>\n",
       "      <td>0.938703</td>\n",
       "      <td>2.970564</td>\n",
       "      <td>0.907387</td>\n",
       "      <td>0.391382</td>\n",
       "      <td>1.180570</td>\n",
       "    </tr>\n",
       "    <tr>\n",
       "      <th>25</th>\n",
       "      <td>-0.534484</td>\n",
       "      <td>0.529231</td>\n",
       "      <td>0.222443</td>\n",
       "      <td>0.384811</td>\n",
       "      <td>1.183378</td>\n",
       "    </tr>\n",
       "    <tr>\n",
       "      <th>26</th>\n",
       "      <td>0.893632</td>\n",
       "      <td>2.808189</td>\n",
       "      <td>0.982673</td>\n",
       "      <td>0.844258</td>\n",
       "      <td>1.044031</td>\n",
       "    </tr>\n",
       "    <tr>\n",
       "      <th>27</th>\n",
       "      <td>0.812037</td>\n",
       "      <td>3.481491</td>\n",
       "      <td>0.959527</td>\n",
       "      <td>0.408904</td>\n",
       "      <td>1.102109</td>\n",
       "    </tr>\n",
       "    <tr>\n",
       "      <th>28</th>\n",
       "      <td>-0.912904</td>\n",
       "      <td>4.965543</td>\n",
       "      <td>0.591363</td>\n",
       "      <td>0.617145</td>\n",
       "      <td>1.172200</td>\n",
       "    </tr>\n",
       "    <tr>\n",
       "      <th>29</th>\n",
       "      <td>0.983808</td>\n",
       "      <td>4.725345</td>\n",
       "      <td>0.518518</td>\n",
       "      <td>0.266200</td>\n",
       "      <td>1.122518</td>\n",
       "    </tr>\n",
       "    <tr>\n",
       "      <th>...</th>\n",
       "      <td>...</td>\n",
       "      <td>...</td>\n",
       "      <td>...</td>\n",
       "      <td>...</td>\n",
       "      <td>...</td>\n",
       "    </tr>\n",
       "    <tr>\n",
       "      <th>1748</th>\n",
       "      <td>-0.708415</td>\n",
       "      <td>4.763288</td>\n",
       "      <td>0.998741</td>\n",
       "      <td>0.579280</td>\n",
       "      <td>1.156569</td>\n",
       "    </tr>\n",
       "    <tr>\n",
       "      <th>1749</th>\n",
       "      <td>0.821233</td>\n",
       "      <td>4.985593</td>\n",
       "      <td>0.646301</td>\n",
       "      <td>0.422593</td>\n",
       "      <td>1.055575</td>\n",
       "    </tr>\n",
       "    <tr>\n",
       "      <th>1750</th>\n",
       "      <td>0.867499</td>\n",
       "      <td>3.287168</td>\n",
       "      <td>0.836779</td>\n",
       "      <td>0.994102</td>\n",
       "      <td>0.981148</td>\n",
       "    </tr>\n",
       "    <tr>\n",
       "      <th>1751</th>\n",
       "      <td>0.966289</td>\n",
       "      <td>4.118331</td>\n",
       "      <td>0.587463</td>\n",
       "      <td>0.230793</td>\n",
       "      <td>1.049801</td>\n",
       "    </tr>\n",
       "    <tr>\n",
       "      <th>1752</th>\n",
       "      <td>-0.809460</td>\n",
       "      <td>4.066975</td>\n",
       "      <td>0.940345</td>\n",
       "      <td>0.219829</td>\n",
       "      <td>1.206899</td>\n",
       "    </tr>\n",
       "    <tr>\n",
       "      <th>1753</th>\n",
       "      <td>0.931707</td>\n",
       "      <td>3.503319</td>\n",
       "      <td>0.764935</td>\n",
       "      <td>0.967818</td>\n",
       "      <td>1.213832</td>\n",
       "    </tr>\n",
       "    <tr>\n",
       "      <th>1754</th>\n",
       "      <td>0.885403</td>\n",
       "      <td>3.765063</td>\n",
       "      <td>0.817418</td>\n",
       "      <td>0.094419</td>\n",
       "      <td>1.268388</td>\n",
       "    </tr>\n",
       "    <tr>\n",
       "      <th>1755</th>\n",
       "      <td>-0.899114</td>\n",
       "      <td>4.957590</td>\n",
       "      <td>0.606790</td>\n",
       "      <td>0.715810</td>\n",
       "      <td>1.172607</td>\n",
       "    </tr>\n",
       "    <tr>\n",
       "      <th>1756</th>\n",
       "      <td>-0.856201</td>\n",
       "      <td>4.418502</td>\n",
       "      <td>0.701746</td>\n",
       "      <td>0.173188</td>\n",
       "      <td>0.951958</td>\n",
       "    </tr>\n",
       "    <tr>\n",
       "      <th>1757</th>\n",
       "      <td>0.915953</td>\n",
       "      <td>2.967581</td>\n",
       "      <td>0.938893</td>\n",
       "      <td>0.721858</td>\n",
       "      <td>1.176584</td>\n",
       "    </tr>\n",
       "    <tr>\n",
       "      <th>1758</th>\n",
       "      <td>-0.399842</td>\n",
       "      <td>0.456396</td>\n",
       "      <td>0.355082</td>\n",
       "      <td>0.725248</td>\n",
       "      <td>1.267074</td>\n",
       "    </tr>\n",
       "    <tr>\n",
       "      <th>1759</th>\n",
       "      <td>0.835672</td>\n",
       "      <td>4.053691</td>\n",
       "      <td>0.758748</td>\n",
       "      <td>0.981889</td>\n",
       "      <td>1.095053</td>\n",
       "    </tr>\n",
       "    <tr>\n",
       "      <th>1760</th>\n",
       "      <td>-0.055236</td>\n",
       "      <td>0.252183</td>\n",
       "      <td>0.016144</td>\n",
       "      <td>0.984466</td>\n",
       "      <td>1.183626</td>\n",
       "    </tr>\n",
       "    <tr>\n",
       "      <th>1761</th>\n",
       "      <td>0.802671</td>\n",
       "      <td>4.885239</td>\n",
       "      <td>0.694911</td>\n",
       "      <td>0.721541</td>\n",
       "      <td>1.115671</td>\n",
       "    </tr>\n",
       "    <tr>\n",
       "      <th>1762</th>\n",
       "      <td>0.948127</td>\n",
       "      <td>2.766102</td>\n",
       "      <td>0.993339</td>\n",
       "      <td>0.840790</td>\n",
       "      <td>1.270844</td>\n",
       "    </tr>\n",
       "    <tr>\n",
       "      <th>1763</th>\n",
       "      <td>-0.891460</td>\n",
       "      <td>3.521991</td>\n",
       "      <td>0.870841</td>\n",
       "      <td>0.670948</td>\n",
       "      <td>1.136455</td>\n",
       "    </tr>\n",
       "    <tr>\n",
       "      <th>1764</th>\n",
       "      <td>-0.852282</td>\n",
       "      <td>4.020266</td>\n",
       "      <td>0.826835</td>\n",
       "      <td>0.933049</td>\n",
       "      <td>1.161354</td>\n",
       "    </tr>\n",
       "    <tr>\n",
       "      <th>1765</th>\n",
       "      <td>-0.815027</td>\n",
       "      <td>0.401289</td>\n",
       "      <td>0.621484</td>\n",
       "      <td>0.914878</td>\n",
       "      <td>1.135809</td>\n",
       "    </tr>\n",
       "    <tr>\n",
       "      <th>1766</th>\n",
       "      <td>-0.107362</td>\n",
       "      <td>0.263717</td>\n",
       "      <td>0.979123</td>\n",
       "      <td>0.236023</td>\n",
       "      <td>0.971420</td>\n",
       "    </tr>\n",
       "    <tr>\n",
       "      <th>1767</th>\n",
       "      <td>-0.881947</td>\n",
       "      <td>4.921328</td>\n",
       "      <td>0.666477</td>\n",
       "      <td>0.445158</td>\n",
       "      <td>1.263027</td>\n",
       "    </tr>\n",
       "    <tr>\n",
       "      <th>1768</th>\n",
       "      <td>0.831570</td>\n",
       "      <td>4.424869</td>\n",
       "      <td>0.664774</td>\n",
       "      <td>0.833492</td>\n",
       "      <td>0.973683</td>\n",
       "    </tr>\n",
       "    <tr>\n",
       "      <th>1769</th>\n",
       "      <td>-0.236185</td>\n",
       "      <td>0.314503</td>\n",
       "      <td>0.880173</td>\n",
       "      <td>0.006829</td>\n",
       "      <td>1.111806</td>\n",
       "    </tr>\n",
       "    <tr>\n",
       "      <th>1770</th>\n",
       "      <td>-0.950695</td>\n",
       "      <td>3.075383</td>\n",
       "      <td>0.928139</td>\n",
       "      <td>0.826402</td>\n",
       "      <td>1.273575</td>\n",
       "    </tr>\n",
       "    <tr>\n",
       "      <th>1771</th>\n",
       "      <td>0.858472</td>\n",
       "      <td>3.510489</td>\n",
       "      <td>0.912256</td>\n",
       "      <td>0.459796</td>\n",
       "      <td>1.250931</td>\n",
       "    </tr>\n",
       "    <tr>\n",
       "      <th>1772</th>\n",
       "      <td>-0.993811</td>\n",
       "      <td>4.569321</td>\n",
       "      <td>0.536481</td>\n",
       "      <td>0.436404</td>\n",
       "      <td>1.140982</td>\n",
       "    </tr>\n",
       "    <tr>\n",
       "      <th>1773</th>\n",
       "      <td>-0.707576</td>\n",
       "      <td>0.536406</td>\n",
       "      <td>0.252476</td>\n",
       "      <td>0.136611</td>\n",
       "      <td>1.129659</td>\n",
       "    </tr>\n",
       "    <tr>\n",
       "      <th>1774</th>\n",
       "      <td>0.963900</td>\n",
       "      <td>2.990303</td>\n",
       "      <td>0.762880</td>\n",
       "      <td>0.982277</td>\n",
       "      <td>0.946988</td>\n",
       "    </tr>\n",
       "    <tr>\n",
       "      <th>1775</th>\n",
       "      <td>0.792795</td>\n",
       "      <td>3.270566</td>\n",
       "      <td>0.997499</td>\n",
       "      <td>0.687057</td>\n",
       "      <td>0.965359</td>\n",
       "    </tr>\n",
       "    <tr>\n",
       "      <th>1776</th>\n",
       "      <td>-0.050930</td>\n",
       "      <td>0.274622</td>\n",
       "      <td>0.308663</td>\n",
       "      <td>0.485093</td>\n",
       "      <td>0.990029</td>\n",
       "    </tr>\n",
       "    <tr>\n",
       "      <th>1777</th>\n",
       "      <td>-0.778072</td>\n",
       "      <td>4.068662</td>\n",
       "      <td>0.989876</td>\n",
       "      <td>0.200363</td>\n",
       "      <td>1.144748</td>\n",
       "    </tr>\n",
       "  </tbody>\n",
       "</table>\n",
       "<p>1778 rows × 5 columns</p>\n",
       "</div>"
      ],
      "text/plain": [
       "           Cab        tb       Att       Abb      Rtau\n",
       "0    -0.518405  0.465272  0.549802  0.254485  1.050462\n",
       "1     0.944146  4.328548  0.602697  0.686248  1.191969\n",
       "2    -0.988011  2.652152  0.953271  0.984399  1.138445\n",
       "3    -0.178751  0.414549  0.340828  0.582339  0.972402\n",
       "4    -0.336678  0.392813  0.637762  0.641356  1.164223\n",
       "5     0.827505  3.750604  0.805010  0.084017  0.951521\n",
       "6     0.899975  4.481629  0.633415  0.270692  1.141199\n",
       "7    -0.329650  0.464061  0.420745  0.286516  1.022503\n",
       "8    -0.882968  4.773378  0.608928  0.817900  1.016211\n",
       "9     0.927659  4.173928  0.654431  0.386751  1.197116\n",
       "10   -0.832719  3.713583  0.884199  0.584081  0.984704\n",
       "11    0.792658  4.482211  0.727168  0.754180  0.990123\n",
       "12   -0.689220  0.574361  0.105374  0.816826  1.155500\n",
       "13    0.777973  4.617482  0.776722  0.566203  1.095674\n",
       "14   -0.836341  3.872463  0.850033  0.020103  0.971589\n",
       "15    0.692326  4.865402  0.870217  0.619171  0.976681\n",
       "16   -0.765252  4.914422  0.789525  0.333627  0.994553\n",
       "17   -0.963044  2.856016  0.900377  0.476300  1.033964\n",
       "18   -0.034552  0.213149  0.224203  0.759980  1.084786\n",
       "19    0.797422  3.766188  0.849197  0.437220  0.952665\n",
       "20   -0.856075  3.679535  0.900374  0.308612  1.110605\n",
       "21   -0.795674  0.468624  0.514709  0.232071  0.941861\n",
       "22   -0.845972  0.404565  0.552180  0.402052  1.213709\n",
       "23    0.952473  2.777441  0.971565  0.371173  1.221032\n",
       "24    0.938703  2.970564  0.907387  0.391382  1.180570\n",
       "25   -0.534484  0.529231  0.222443  0.384811  1.183378\n",
       "26    0.893632  2.808189  0.982673  0.844258  1.044031\n",
       "27    0.812037  3.481491  0.959527  0.408904  1.102109\n",
       "28   -0.912904  4.965543  0.591363  0.617145  1.172200\n",
       "29    0.983808  4.725345  0.518518  0.266200  1.122518\n",
       "...        ...       ...       ...       ...       ...\n",
       "1748 -0.708415  4.763288  0.998741  0.579280  1.156569\n",
       "1749  0.821233  4.985593  0.646301  0.422593  1.055575\n",
       "1750  0.867499  3.287168  0.836779  0.994102  0.981148\n",
       "1751  0.966289  4.118331  0.587463  0.230793  1.049801\n",
       "1752 -0.809460  4.066975  0.940345  0.219829  1.206899\n",
       "1753  0.931707  3.503319  0.764935  0.967818  1.213832\n",
       "1754  0.885403  3.765063  0.817418  0.094419  1.268388\n",
       "1755 -0.899114  4.957590  0.606790  0.715810  1.172607\n",
       "1756 -0.856201  4.418502  0.701746  0.173188  0.951958\n",
       "1757  0.915953  2.967581  0.938893  0.721858  1.176584\n",
       "1758 -0.399842  0.456396  0.355082  0.725248  1.267074\n",
       "1759  0.835672  4.053691  0.758748  0.981889  1.095053\n",
       "1760 -0.055236  0.252183  0.016144  0.984466  1.183626\n",
       "1761  0.802671  4.885239  0.694911  0.721541  1.115671\n",
       "1762  0.948127  2.766102  0.993339  0.840790  1.270844\n",
       "1763 -0.891460  3.521991  0.870841  0.670948  1.136455\n",
       "1764 -0.852282  4.020266  0.826835  0.933049  1.161354\n",
       "1765 -0.815027  0.401289  0.621484  0.914878  1.135809\n",
       "1766 -0.107362  0.263717  0.979123  0.236023  0.971420\n",
       "1767 -0.881947  4.921328  0.666477  0.445158  1.263027\n",
       "1768  0.831570  4.424869  0.664774  0.833492  0.973683\n",
       "1769 -0.236185  0.314503  0.880173  0.006829  1.111806\n",
       "1770 -0.950695  3.075383  0.928139  0.826402  1.273575\n",
       "1771  0.858472  3.510489  0.912256  0.459796  1.250931\n",
       "1772 -0.993811  4.569321  0.536481  0.436404  1.140982\n",
       "1773 -0.707576  0.536406  0.252476  0.136611  1.129659\n",
       "1774  0.963900  2.990303  0.762880  0.982277  0.946988\n",
       "1775  0.792795  3.270566  0.997499  0.687057  0.965359\n",
       "1776 -0.050930  0.274622  0.308663  0.485093  0.990029\n",
       "1777 -0.778072  4.068662  0.989876  0.200363  1.144748\n",
       "\n",
       "[1778 rows x 5 columns]"
      ]
     },
     "execution_count": 12,
     "metadata": {},
     "output_type": "execute_result"
    }
   ],
   "source": [
    "%time\n",
    "data1s_rtau,data2s_rtau =Rtau.parameter_space2(\n",
    "    rtautau,n=100000,Cab=[-1.0,1.0],tb=[0.1,5.0],\n",
    "    Att=[0.0,1.0],Abb=[0.0,1.0])\n",
    "data1s_rtau"
   ]
  },
  {
   "cell_type": "code",
   "execution_count": 13,
   "metadata": {
    "Collapsed": "false"
   },
   "outputs": [
    {
     "data": {
      "text/plain": [
       "'Rtau'"
      ]
     },
     "execution_count": 13,
     "metadata": {},
     "output_type": "execute_result"
    }
   ],
   "source": [
    "Rtau.latex_name"
   ]
  },
  {
   "cell_type": "code",
   "execution_count": 14,
   "metadata": {
    "Collapsed": "false"
   },
   "outputs": [
    {
     "data": {
      "image/png": "[encoded data removed]",
      "text/plain": [
       "<Figure size 432x288 with 1 Axes>"
      ]
     },
     "metadata": {
      "needs_background": "light"
     },
     "output_type": "display_data"
    }
   ],
   "source": [
    "latex_names = {'Cab':r'$\\cos(\\alpha -\\beta)$',\n",
    "        'tb':r'$\\tan(\\beta)$',\n",
    "        'Att':r'$A_{tt}$','Abb':r'$A_{bb}$','Rtau':r'$R_{\\tau}$',\n",
    "        'Rb':r'$R_b$','Rgamma':r'$R_{\\gamma}$','Rw':r'$R_{W}$','Rz':r'$R_{Z}$'}\n",
    "plot_df(data1s_rtau,colx='Cab',coly='tb',\n",
    "        latex_names=latex_names)"
   ]
  },
  {
   "cell_type": "code",
   "execution_count": 15,
   "metadata": {
    "Collapsed": "false"
   },
   "outputs": [
    {
     "data": {
      "image/png": "[encoded data removed]",
      "text/plain": [
       "<Figure size 432x288 with 4 Axes>"
      ]
     },
     "metadata": {
      "needs_background": "light"
     },
     "output_type": "display_data"
    }
   ],
   "source": [
    "#list(data1s_rtau.keys()).remove('Cab')\n",
    "plot_tabledf(data1s_rtau,coly='tb',latex_names=latex_names)"
   ]
  },
  {
   "cell_type": "code",
   "execution_count": null,
   "metadata": {
    "Collapsed": "false"
   },
   "outputs": [],
   "source": []
  },
  {
   "cell_type": "code",
   "execution_count": 13,
   "metadata": {
    "Collapsed": "false"
   },
   "outputs": [],
   "source": []
  }
 ],
 "metadata": {
  "kernelspec": {
   "display_name": "Python 3",
   "language": "python",
   "name": "python3"
  },
  "language_info": {
   "codemirror_mode": {
    "name": "ipython",
    "version": 3
   },
   "file_extension": ".py",
   "mimetype": "text/x-python",
   "name": "python",
   "nbconvert_exporter": "python",
   "pygments_lexer": "ipython3",
   "version": "3.7.3"
  }
 },
 "nbformat": 4,
 "nbformat_minor": 4
}
