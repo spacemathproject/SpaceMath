{
 "cells": [
  {
   "cell_type": "code",
   "execution_count": 1,
   "metadata": {
    "Collapsed": "false"
   },
   "outputs": [],
   "source": [
    "from spacemathpy import *\n",
    "import matplotlib.pyplot as plt\n",
    "%matplotlib inline"
   ]
  },
  {
   "cell_type": "markdown",
   "metadata": {
    "Collapsed": "false"
   },
   "source": [
    "# 2HDM"
   ]
  },
  {
   "cell_type": "markdown",
   "metadata": {
    "Collapsed": "false"
   },
   "source": [
    "## Higgs couplings with fermions\n",
    "In the context of 2HDM-III, the couplings $g_{htt}$, $g_{hbb}$, $g_{h\\tau\\tau}$ can be extracted of:\n",
    "\n",
    "$$\\mathcal{L}_Y^{q} = \\frac{g}{2}\\left(\\frac{m_{d_{m}}}{m_{W}}\\right) d_{m}\\left[\\frac{\\cos \\sqrt{\\alpha}}{\\cos \\left[\\frac{\\cos }{\\cos }\\right] \\delta} | \\delta_{m n}+\\frac{\\sqrt{2} \\sqrt{\\operatorname{sen}(\\alpha-\\beta)}}{g \\cos \\beta}\\left(\\frac{m_{W}}{m_{d m}}\\right)(\\overline{Y_{2}^{d}})_{m n}\\right] | d_{n} H^{0}$$\n",
    "$$+\\frac{g}{2}\\left(\\frac{m_{d_{m}}}{m_{W}}\\right) d_{m}\\left[-\\frac{\\operatorname{sen} \\alpha}{\\cos \\beta} \\delta_{m n}+\\frac{\\sqrt{2} \\cos (\\alpha-\\beta)}{g \\cos \\beta}\\left(\\frac{m_{W}}{m_{d_{m}}}\\right)\\left(\\tilde{Y}_{2}^{d}\\right)_{m n}\\right] d_{n} h^{0}$$\n",
    "$$+\\frac{i g}{2}\\left(\\frac{m_{d_{m}}}{m_{W}}\\right) \\bar{d}_{m}\\left[-\\tan \\beta \\delta_{m n}+\\frac{\\sqrt{2}}{g \\cos \\beta}\\left(\\frac{m_{W}}{m_{d_{m}}}\\right)\\left(\\tilde{Y}_{2}^{d}\\right)_{m n}\\right] \\gamma^{5} d_{n} A^{0}$$\n",
    "$$+\\frac{g}{2}\\left(\\frac{m_{u m}}{m_{W}}\\right) \\bar{u}_{m}\\left[\\frac{\\operatorname{sen} \\alpha}{\\operatorname{sen} \\beta} \\delta_{m n}-\\frac{\\sqrt{2} \\operatorname{sen}(\\alpha-\\beta)}{g \\operatorname{sen} \\beta}\\left(\\frac{m_{W}}{m_{u_{m}}}\\right)\\left(\\tilde{Y}_{1}^{u}\\right)_{m n}\\right] u_{n} H^{0}$$\n",
    "$$+\\frac{g}{2}\\left(\\frac{m_{u_{m}}}{m_{W}}\\right) \\bar{u}_{m}\\left[\\frac{\\cos \\alpha}{\\operatorname{sen} \\beta} \\delta_{m n}-\\frac{\\sqrt{2} \\cos (\\alpha-\\beta)}{g \\operatorname{sen} \\beta}\\left(\\frac{m_{W}}{m_{u_{m}}}\\right)\\left(\\bar{Y}_{1}^{u}\\right)_{m n}\\right] u_{n} h^{0}$$\n",
    "$$+\\frac{i g}{2}\\left(\\frac{m_{u_{m}}}{m_{W}}\\right) \\bar{u}_{m}\\left[-\\cot \\beta \\delta_{m n}+\\frac{\\sqrt{2}}{g \\operatorname{sen} \\beta}\\left(\\frac{m_{W}}{m_{u_{m}}}\\right)\\left(\\tilde{Y}_{1}^{u}\\right)_{m n}\\right] \\gamma^{5} u_{n} A^{0}.$$\n",
    "\n",
    "In python these couplings can be defined as functions $\\alpha$, $\\tan{\\beta}$ and $C_{\\alpha \\beta} = \\cos{(\\alpha - \\beta)}$ as follows"
   ]
  },
  {
   "cell_type": "code",
   "execution_count": 2,
   "metadata": {
    "Collapsed": "false"
   },
   "outputs": [],
   "source": [
    "#2HDM-III\n",
    "def ghtt_2hdm(α,Att,Cab,tb):\n",
    "    global mW,mt,g,SMvev\n",
    "    if issymbolic(α,Att,Cab,tb):\n",
    "        MW,Mt= mW['symbol'],mt['symbol']\n",
    "        return (g['symbol']/2)*(Mt/MW)*(-sp.cos(α)/tb*sp.cos(sp.atan(tb)) + \n",
    "                sp.sqrt(2)*Cab/(g['symbol']*tb*sp.cos(sp.atan(tb)))*(MW/Mt)*(\n",
    "                    Mt/SMvev['symbol'])*Att)\n",
    "    else:\n",
    "        MW,Mt= mW['value'],mt['value']\n",
    "        return (g['value']/2)*(Mt/MW)*(-np.cos(α)/tb*np.cos(np.arctan(tb)) + \n",
    "                np.sqrt(2)*Cab/(g['value']*tb*np.cos(np.arctan(tb)))*(MW/Mt)*(\n",
    "                    Mt/SMvev['value'])*Att)"
   ]
  },
  {
   "cell_type": "markdown",
   "metadata": {
    "Collapsed": "false"
   },
   "source": [
    "symbolic definition of variables"
   ]
  },
  {
   "cell_type": "code",
   "execution_count": 3,
   "metadata": {
    "Collapsed": "false"
   },
   "outputs": [
    {
     "data": {
      "image/png": "[encoded data removed]",
      "text/latex": [
       "$\\displaystyle \\frac{g m_{t} \\left(\\frac{\\sqrt{2} A_{tt} C_{ab} m_{W} \\sqrt{t_{b}^{2} + 1}}{g t_{b} v} - \\frac{\\cos{\\left(\\alpha \\right)}}{t_{b} \\sqrt{t_{b}^{2} + 1}}\\right)}{2 m_{W}}$"
      ],
      "text/plain": [
       "     ⎛                        __________                    ⎞\n",
       "     ⎜                       ╱    2                         ⎟\n",
       "     ⎜√2⋅A_{tt}⋅C_{ab}⋅m_W⋅╲╱  t_b  + 1          cos(α)     ⎟\n",
       "g⋅mₜ⋅⎜────────────────────────────────── - ─────────────────⎟\n",
       "     ⎜             g⋅t_b⋅v                        __________⎟\n",
       "     ⎜                                           ╱    2     ⎟\n",
       "     ⎝                                     t_b⋅╲╱  t_b  + 1 ⎠\n",
       "─────────────────────────────────────────────────────────────\n",
       "                            2⋅m_W                            "
      ]
     },
     "execution_count": 3,
     "metadata": {},
     "output_type": "execute_result"
    }
   ],
   "source": [
    "a,Att,Cab,tb = sp.symbols('alpha,A_{tt},C_{ab},t_b')\n",
    "ghtt_2hdm(a,Att,Cab,tb)"
   ]
  },
  {
   "cell_type": "markdown",
   "metadata": {
    "Collapsed": "false"
   },
   "source": [
    "numeric evaluation"
   ]
  },
  {
   "cell_type": "code",
   "execution_count": 4,
   "metadata": {
    "Collapsed": "false"
   },
   "outputs": [
    {
     "data": {
      "image/png": "[encoded data removed]",
      "text/latex": [
       "$\\displaystyle -1.545764653436345$"
      ],
      "text/plain": [
       "-1.545764653436345"
      ]
     },
     "execution_count": 4,
     "metadata": {},
     "output_type": "execute_result"
    }
   ],
   "source": [
    "ghtt_2hdm(0.1,0.2,0.3,0.4)"
   ]
  },
  {
   "cell_type": "code",
   "execution_count": 5,
   "metadata": {
    "Collapsed": "false"
   },
   "outputs": [],
   "source": [
    "def ghbb_2hdm(α,Abb,Cab,tb):\n",
    "    global mW,mb,g,SMvev\n",
    "    if issymbolic(α,Abb,Cab,tb):\n",
    "        MW,Mb= mW['symbol'],mb['symbol']\n",
    "        return (g['symbol']/2)*(Mb/MW)*(-sp.sin(α)*tb/sp.sin(sp.atan(tb)) + \n",
    "                sp.sqrt(2)*(Cab*tb)/(g['symbol']*sp.sin(sp.atan(tb)))*(MW/Mb)*(\n",
    "                    Mb/SMvev['symbol'])*Abb)\n",
    "    else:\n",
    "        MW,Mb= mW['value'],mb['value']\n",
    "        return (g['value']/2)*(Mb/MW)*(-np.sin(α)*tb/np.sin(np.arctan(tb)) + \n",
    "                np.sqrt(2)*(Cab*tb)/(g['value']*np.sin(np.arctan(tb)))*(MW/Mb)*(\n",
    "                    Mb/SMvev['value'])*Abb)"
   ]
  },
  {
   "cell_type": "markdown",
   "metadata": {
    "Collapsed": "false"
   },
   "source": [
    "symbolic evaluation"
   ]
  },
  {
   "cell_type": "code",
   "execution_count": 6,
   "metadata": {
    "Collapsed": "false"
   },
   "outputs": [
    {
     "data": {
      "image/png": "[encoded data removed]",
      "text/latex": [
       "$\\displaystyle \\frac{g m_{b} \\left(\\frac{\\sqrt{2} A_{bb} C_{ab} m_{W} \\sqrt{t_{b}^{2} + 1}}{g v} - \\sqrt{t_{b}^{2} + 1} \\sin{\\left(\\alpha \\right)}\\right)}{2 m_{W}}$"
      ],
      "text/plain": [
       "      ⎛                      __________                       ⎞\n",
       "      ⎜                     ╱    2           __________       ⎟\n",
       "      ⎜√2⋅A_bb⋅C_{ab}⋅m_W⋅╲╱  t_b  + 1      ╱    2            ⎟\n",
       "g⋅m_b⋅⎜──────────────────────────────── - ╲╱  t_b  + 1 ⋅sin(α)⎟\n",
       "      ⎝              g⋅v                                      ⎠\n",
       "───────────────────────────────────────────────────────────────\n",
       "                             2⋅m_W                             "
      ]
     },
     "execution_count": 6,
     "metadata": {},
     "output_type": "execute_result"
    }
   ],
   "source": [
    "Abb = sp.symbols('A_bb')    \n",
    "ghbb_2hdm(a,Abb,Cab,tb)"
   ]
  },
  {
   "cell_type": "markdown",
   "metadata": {
    "Collapsed": "false"
   },
   "source": [
    "numeric evaluation"
   ]
  },
  {
   "cell_type": "code",
   "execution_count": 7,
   "metadata": {
    "Collapsed": "false"
   },
   "outputs": [
    {
     "data": {
      "image/png": "[encoded data removed]",
      "text/latex": [
       "$\\displaystyle -0.0010505944329082069$"
      ],
      "text/plain": [
       "-0.0010505944329082069"
      ]
     },
     "execution_count": 7,
     "metadata": {},
     "output_type": "execute_result"
    }
   ],
   "source": [
    "ghbb_2hdm(0.1,0.2,0.3,0.4)"
   ]
  },
  {
   "cell_type": "code",
   "execution_count": 8,
   "metadata": {
    "Collapsed": "false"
   },
   "outputs": [
    {
     "data": {
      "image/png": "[encoded data removed]",
      "text/latex": [
       "$\\displaystyle -0.00033946954860783365$"
      ],
      "text/plain": [
       "-0.00033946954860783365"
      ]
     },
     "execution_count": 8,
     "metadata": {},
     "output_type": "execute_result"
    }
   ],
   "source": [
    "def ghtautau_2hdm(α,Atata,Cab,tb):\n",
    "    global mW,mta,g,SMvev\n",
    "    if issymbolic(α,Atata,Cab,tb):\n",
    "        MW,Mtau= mW['symbol'],mta['symbol']\n",
    "        return (g['symbol']/2)*(Mtau/MW)*(-sp.sin(α)*tb/sp.sin(sp.atan(tb)) + \n",
    "                sp.sqrt(2)*(Cab*tb)/(g['symbol']*sp.sin(sp.atan(tb)))*(MW/Mtau)*(\n",
    "                    Mtau/SMvev['symbol'])*Atata)\n",
    "    else:\n",
    "        MW,Mtau= mW['value'],mta['value']\n",
    "        return (g['value']/2)*(Mtau/MW)*(-np.sin(α)/tb*np.sin(np.arctan(tb)) + \n",
    "                np.sqrt(2)*(Cab*tb)/(g['value']*np.sin(np.arctan(tb)))*(MW/Mtau)*(\n",
    "                    Mtau/SMvev['value'])*Atata)\n",
    "\n",
    "Atata = sp.symbols(r'A_{\\tau\\tau}')    \n",
    "ghtautau_2hdm(a,Atata,Cab,tb)\n",
    "ghtautau_2hdm(0.1,0.2,0.3,0.4)"
   ]
  },
  {
   "cell_type": "markdown",
   "metadata": {
    "Collapsed": "false"
   },
   "source": [
    "## Higgs couplings with vector bosons\n",
    "In the case of $g_{hWW}$ and $g_{hZZ}$ the couplings in the $2HDM$ are given by\n",
    "\n",
    "$$\\mathcal{L}_{hVV} = g m_{V} \\sin{(\\alpha - \\beta)}$$ \n",
    "\n",
    "where $V = W,Z$. The corresponding functions in python are given as follow"
   ]
  },
  {
   "cell_type": "code",
   "execution_count": 9,
   "metadata": {
    "Collapsed": "false"
   },
   "outputs": [
    {
     "data": {
      "image/png": "[encoded data removed]",
      "text/latex": [
       "$\\displaystyle 5.252669626829269$"
      ],
      "text/plain": [
       "5.252669626829269"
      ]
     },
     "execution_count": 9,
     "metadata": {},
     "output_type": "execute_result"
    }
   ],
   "source": [
    "def ghww_2hdm(sab):\n",
    "    global mW,g\n",
    "    if issymbolic(sab):\n",
    "        MW,gg= mW['symbol'],g['symbol']\n",
    "        return gg*MW*sab\n",
    "    else:\n",
    "        MW,gg= mW['value'],g['value']\n",
    "        return gg*MW*sab\n",
    "\n",
    "sab = sp.symbols('s_{ab}',real=True)\n",
    "ghww_2hdm(sab)\n",
    "ghww_2hdm(0.1)"
   ]
  },
  {
   "cell_type": "code",
   "execution_count": 10,
   "metadata": {
    "Collapsed": "false"
   },
   "outputs": [
    {
     "data": {
      "image/png": "[encoded data removed]",
      "text/latex": [
       "$\\displaystyle 5.958998455609756$"
      ],
      "text/plain": [
       "5.958998455609756"
      ]
     },
     "execution_count": 10,
     "metadata": {},
     "output_type": "execute_result"
    }
   ],
   "source": [
    "def ghzz_2hdm(sab):\n",
    "    global mZ,g\n",
    "    if issymbolic(sab):\n",
    "        MZ,gg= mZ['symbol'],g['symbol']\n",
    "        return gg*MZ*sab\n",
    "    else:\n",
    "        MZ,gg= mZ['value'],g['value']\n",
    "        return gg*MZ*sab\n",
    "\n",
    "#sab = sp.symbols('s_{ab}',real=True)\n",
    "ghzz_2hdm(sab)\n",
    "ghzz_2hdm(0.1)"
   ]
  },
  {
   "cell_type": "markdown",
   "metadata": {
    "Collapsed": "false"
   },
   "source": [
    "## Signal Strenght functions\n",
    "\n",
    "Now, we need to define our Higgs streght signals in terms of our variables"
   ]
  },
  {
   "cell_type": "code",
   "execution_count": 11,
   "metadata": {
    "Collapsed": "false"
   },
   "outputs": [],
   "source": [
    "rtautau = lambda Cab,tb,Att,Abb: Rtata(\n",
    "    ghtt_2hdm(np.arccos(Cab) + np.arctan(tb),Att,Cab,tb),\n",
    "    ghbb_2hdm(np.arccos(Cab) + np.arctan(tb),Abb,Cab,tb),\n",
    "    ghtautau_2hdm(np.arccos(Cab) + np.arctan(tb),1,Cab,tb))\n",
    "\n",
    "rbb = lambda Cab,tb,Att,Abb:Rbotbot(\n",
    "    ghtt_2hdm(np.arccos(Cab) + np.arctan(tb),Att,Cab,tb),\n",
    "    ghbb_2hdm(np.arccos(Cab) + np.arctan(tb),Abb,Cab,tb))\n",
    "\n",
    "rgaga = lambda Cab,tb,Att,Abb,mCH:Rgaga(\n",
    "    ghtt_2hdm(np.arccos(Cab) + np.arctan(tb),Att,Cab,tb),\n",
    "    ghbb_2hdm(np.arccos(Cab) + np.arctan(tb),Abb,Cab,tb),\n",
    "    ghww_2hdm(np.sqrt(1 - Cab**2)), 0, mCH)\n",
    "\n",
    "rww = lambda Cab,tb,Att,Abb:RWW(\n",
    "    ghtt_2hdm(np.arccos(Cab) + np.arctan(tb),Att,Cab,tb),\n",
    "    ghbb_2hdm(np.arccos(Cab) + np.arctan(tb),Abb,Cab,tb),\n",
    "    ghww_2hdm(np.sqrt(1 - Cab**2)))\n",
    "\n",
    "rzz = lambda Cab,tb,Att,Abb:RWW(\n",
    "    ghtt_2hdm(np.arccos(Cab) + np.arctan(tb),Att,Cab,tb),\n",
    "    ghbb_2hdm(np.arccos(Cab) + np.arctan(tb),Abb,Cab,tb),\n",
    "    ghzz_2hdm(np.sqrt(1 - Cab**2)))"
   ]
  },
  {
   "cell_type": "markdown",
   "metadata": {
    "Collapsed": "false"
   },
   "source": [
    "## Allowed parameter space\n",
    "\n",
    "We calculate the allowed parameter space to each signal"
   ]
  },
  {
   "cell_type": "code",
   "execution_count": 12,
   "metadata": {
    "Collapsed": "false",
    "collapsed": true,
    "jupyter": {
     "outputs_hidden": true
    }
   },
   "outputs": [
    {
     "name": "stdout",
     "output_type": "stream",
     "text": [
      "CPU times: user 6 µs, sys: 1 µs, total: 7 µs\n",
      "Wall time: 11 µs\n"
     ]
    },
    {
     "name": "stderr",
     "output_type": "stream",
     "text": [
      "/home/moises/miniconda3/lib/python3.7/site-packages/spacemathpy/RXX.py:41: RuntimeWarning: invalid value encountered in sqrt\n",
      "  return -(1/4)*(np.log((1+np.sqrt(1-(((mS**2)/(4*mtop**2))**-1)))/(1-np.sqrt(1-(((mS**2)/(4*mtop**2))**-1))))*(-sp.I*np.pi))**2\n"
     ]
    },
    {
     "data": {
      "text/html": [
       "<div>\n",
       "<style scoped>\n",
       "    .dataframe tbody tr th:only-of-type {\n",
       "        vertical-align: middle;\n",
       "    }\n",
       "\n",
       "    .dataframe tbody tr th {\n",
       "        vertical-align: top;\n",
       "    }\n",
       "\n",
       "    .dataframe thead th {\n",
       "        text-align: right;\n",
       "    }\n",
       "</style>\n",
       "<table border=\"1\" class=\"dataframe\">\n",
       "  <thead>\n",
       "    <tr style=\"text-align: right;\">\n",
       "      <th></th>\n",
       "      <th>Cab</th>\n",
       "      <th>tb</th>\n",
       "      <th>Att</th>\n",
       "      <th>Abb</th>\n",
       "      <th>Rtau</th>\n",
       "    </tr>\n",
       "  </thead>\n",
       "  <tbody>\n",
       "    <tr>\n",
       "      <th>0</th>\n",
       "      <td>-0.831974</td>\n",
       "      <td>3.648532</td>\n",
       "      <td>0.901429</td>\n",
       "      <td>0.154282</td>\n",
       "      <td>0.953959</td>\n",
       "    </tr>\n",
       "    <tr>\n",
       "      <th>1</th>\n",
       "      <td>-0.757839</td>\n",
       "      <td>0.548867</td>\n",
       "      <td>0.267481</td>\n",
       "      <td>0.249623</td>\n",
       "      <td>0.986546</td>\n",
       "    </tr>\n",
       "    <tr>\n",
       "      <th>2</th>\n",
       "      <td>-0.707070</td>\n",
       "      <td>0.528493</td>\n",
       "      <td>0.203084</td>\n",
       "      <td>0.630917</td>\n",
       "      <td>1.273799</td>\n",
       "    </tr>\n",
       "    <tr>\n",
       "      <th>3</th>\n",
       "      <td>0.948705</td>\n",
       "      <td>4.163820</td>\n",
       "      <td>0.647890</td>\n",
       "      <td>0.073188</td>\n",
       "      <td>1.222725</td>\n",
       "    </tr>\n",
       "    <tr>\n",
       "      <th>4</th>\n",
       "      <td>0.983327</td>\n",
       "      <td>3.452664</td>\n",
       "      <td>0.710435</td>\n",
       "      <td>0.192294</td>\n",
       "      <td>1.137985</td>\n",
       "    </tr>\n",
       "    <tr>\n",
       "      <th>5</th>\n",
       "      <td>0.746486</td>\n",
       "      <td>3.860812</td>\n",
       "      <td>0.998984</td>\n",
       "      <td>0.247680</td>\n",
       "      <td>1.064077</td>\n",
       "    </tr>\n",
       "    <tr>\n",
       "      <th>6</th>\n",
       "      <td>-0.877932</td>\n",
       "      <td>4.975006</td>\n",
       "      <td>0.633174</td>\n",
       "      <td>0.691771</td>\n",
       "      <td>1.167350</td>\n",
       "    </tr>\n",
       "    <tr>\n",
       "      <th>7</th>\n",
       "      <td>-0.994274</td>\n",
       "      <td>3.008920</td>\n",
       "      <td>0.806340</td>\n",
       "      <td>0.060255</td>\n",
       "      <td>1.058637</td>\n",
       "    </tr>\n",
       "    <tr>\n",
       "      <th>8</th>\n",
       "      <td>0.797031</td>\n",
       "      <td>4.113242</td>\n",
       "      <td>0.898869</td>\n",
       "      <td>0.225141</td>\n",
       "      <td>1.251716</td>\n",
       "    </tr>\n",
       "    <tr>\n",
       "      <th>9</th>\n",
       "      <td>-0.914970</td>\n",
       "      <td>4.551438</td>\n",
       "      <td>0.624532</td>\n",
       "      <td>0.164597</td>\n",
       "      <td>1.041796</td>\n",
       "    </tr>\n",
       "    <tr>\n",
       "      <th>10</th>\n",
       "      <td>-0.121592</td>\n",
       "      <td>0.356867</td>\n",
       "      <td>0.207101</td>\n",
       "      <td>0.014674</td>\n",
       "      <td>1.081817</td>\n",
       "    </tr>\n",
       "    <tr>\n",
       "      <th>11</th>\n",
       "      <td>0.931801</td>\n",
       "      <td>2.702275</td>\n",
       "      <td>0.979194</td>\n",
       "      <td>0.181639</td>\n",
       "      <td>1.069398</td>\n",
       "    </tr>\n",
       "    <tr>\n",
       "      <th>12</th>\n",
       "      <td>0.799429</td>\n",
       "      <td>4.910413</td>\n",
       "      <td>0.719366</td>\n",
       "      <td>0.299249</td>\n",
       "      <td>1.139165</td>\n",
       "    </tr>\n",
       "    <tr>\n",
       "      <th>13</th>\n",
       "      <td>-0.928013</td>\n",
       "      <td>3.971728</td>\n",
       "      <td>0.700852</td>\n",
       "      <td>0.289350</td>\n",
       "      <td>1.075008</td>\n",
       "    </tr>\n",
       "    <tr>\n",
       "      <th>14</th>\n",
       "      <td>-0.317109</td>\n",
       "      <td>0.312451</td>\n",
       "      <td>0.972203</td>\n",
       "      <td>0.509155</td>\n",
       "      <td>1.106621</td>\n",
       "    </tr>\n",
       "    <tr>\n",
       "      <th>15</th>\n",
       "      <td>-0.011462</td>\n",
       "      <td>0.130573</td>\n",
       "      <td>0.595737</td>\n",
       "      <td>0.257710</td>\n",
       "      <td>1.014113</td>\n",
       "    </tr>\n",
       "    <tr>\n",
       "      <th>16</th>\n",
       "      <td>-0.167271</td>\n",
       "      <td>0.287684</td>\n",
       "      <td>0.750615</td>\n",
       "      <td>0.533122</td>\n",
       "      <td>1.207454</td>\n",
       "    </tr>\n",
       "    <tr>\n",
       "      <th>17</th>\n",
       "      <td>-0.251238</td>\n",
       "      <td>0.353968</td>\n",
       "      <td>0.746367</td>\n",
       "      <td>0.976501</td>\n",
       "      <td>1.091991</td>\n",
       "    </tr>\n",
       "    <tr>\n",
       "      <th>18</th>\n",
       "      <td>-0.883182</td>\n",
       "      <td>4.494400</td>\n",
       "      <td>0.673405</td>\n",
       "      <td>0.143928</td>\n",
       "      <td>1.027229</td>\n",
       "    </tr>\n",
       "    <tr>\n",
       "      <th>19</th>\n",
       "      <td>-0.507801</td>\n",
       "      <td>0.381575</td>\n",
       "      <td>0.763976</td>\n",
       "      <td>0.917024</td>\n",
       "      <td>1.190963</td>\n",
       "    </tr>\n",
       "    <tr>\n",
       "      <th>20</th>\n",
       "      <td>-0.986810</td>\n",
       "      <td>4.056429</td>\n",
       "      <td>0.570213</td>\n",
       "      <td>0.482368</td>\n",
       "      <td>0.972841</td>\n",
       "    </tr>\n",
       "    <tr>\n",
       "      <th>21</th>\n",
       "      <td>-0.978291</td>\n",
       "      <td>4.298265</td>\n",
       "      <td>0.601371</td>\n",
       "      <td>0.159451</td>\n",
       "      <td>1.147294</td>\n",
       "    </tr>\n",
       "    <tr>\n",
       "      <th>22</th>\n",
       "      <td>-0.978884</td>\n",
       "      <td>2.930607</td>\n",
       "      <td>0.826012</td>\n",
       "      <td>0.790174</td>\n",
       "      <td>1.002995</td>\n",
       "    </tr>\n",
       "    <tr>\n",
       "      <th>23</th>\n",
       "      <td>-0.923807</td>\n",
       "      <td>0.307443</td>\n",
       "      <td>0.798263</td>\n",
       "      <td>0.458092</td>\n",
       "      <td>1.024196</td>\n",
       "    </tr>\n",
       "    <tr>\n",
       "      <th>24</th>\n",
       "      <td>0.702503</td>\n",
       "      <td>4.965048</td>\n",
       "      <td>0.896776</td>\n",
       "      <td>0.435287</td>\n",
       "      <td>1.122690</td>\n",
       "    </tr>\n",
       "    <tr>\n",
       "      <th>25</th>\n",
       "      <td>-0.965821</td>\n",
       "      <td>4.501513</td>\n",
       "      <td>0.548792</td>\n",
       "      <td>0.784717</td>\n",
       "      <td>1.053898</td>\n",
       "    </tr>\n",
       "    <tr>\n",
       "      <th>26</th>\n",
       "      <td>-0.375830</td>\n",
       "      <td>0.484685</td>\n",
       "      <td>0.400599</td>\n",
       "      <td>0.352046</td>\n",
       "      <td>1.011555</td>\n",
       "    </tr>\n",
       "    <tr>\n",
       "      <th>27</th>\n",
       "      <td>-0.179708</td>\n",
       "      <td>0.317449</td>\n",
       "      <td>0.580193</td>\n",
       "      <td>0.538183</td>\n",
       "      <td>1.254245</td>\n",
       "    </tr>\n",
       "    <tr>\n",
       "      <th>28</th>\n",
       "      <td>0.842581</td>\n",
       "      <td>3.717939</td>\n",
       "      <td>0.810766</td>\n",
       "      <td>0.603326</td>\n",
       "      <td>1.049786</td>\n",
       "    </tr>\n",
       "    <tr>\n",
       "      <th>29</th>\n",
       "      <td>-0.819903</td>\n",
       "      <td>3.852954</td>\n",
       "      <td>0.886406</td>\n",
       "      <td>0.025732</td>\n",
       "      <td>0.970539</td>\n",
       "    </tr>\n",
       "    <tr>\n",
       "      <th>...</th>\n",
       "      <td>...</td>\n",
       "      <td>...</td>\n",
       "      <td>...</td>\n",
       "      <td>...</td>\n",
       "      <td>...</td>\n",
       "    </tr>\n",
       "    <tr>\n",
       "      <th>1762</th>\n",
       "      <td>0.590262</td>\n",
       "      <td>0.182622</td>\n",
       "      <td>0.064458</td>\n",
       "      <td>0.984419</td>\n",
       "      <td>1.015005</td>\n",
       "    </tr>\n",
       "    <tr>\n",
       "      <th>1763</th>\n",
       "      <td>-0.740975</td>\n",
       "      <td>0.364594</td>\n",
       "      <td>0.840198</td>\n",
       "      <td>0.495202</td>\n",
       "      <td>0.985294</td>\n",
       "    </tr>\n",
       "    <tr>\n",
       "      <th>1764</th>\n",
       "      <td>-0.323357</td>\n",
       "      <td>0.355195</td>\n",
       "      <td>0.804581</td>\n",
       "      <td>0.473802</td>\n",
       "      <td>1.130773</td>\n",
       "    </tr>\n",
       "    <tr>\n",
       "      <th>1765</th>\n",
       "      <td>0.975369</td>\n",
       "      <td>4.222217</td>\n",
       "      <td>0.594506</td>\n",
       "      <td>0.837869</td>\n",
       "      <td>1.247397</td>\n",
       "    </tr>\n",
       "    <tr>\n",
       "      <th>1766</th>\n",
       "      <td>-0.075820</td>\n",
       "      <td>0.260954</td>\n",
       "      <td>0.138226</td>\n",
       "      <td>0.948680</td>\n",
       "      <td>1.267428</td>\n",
       "    </tr>\n",
       "    <tr>\n",
       "      <th>1767</th>\n",
       "      <td>0.971400</td>\n",
       "      <td>4.128478</td>\n",
       "      <td>0.618284</td>\n",
       "      <td>0.036786</td>\n",
       "      <td>1.172209</td>\n",
       "    </tr>\n",
       "    <tr>\n",
       "      <th>1768</th>\n",
       "      <td>-0.967552</td>\n",
       "      <td>4.573310</td>\n",
       "      <td>0.554396</td>\n",
       "      <td>0.343619</td>\n",
       "      <td>1.061044</td>\n",
       "    </tr>\n",
       "    <tr>\n",
       "      <th>1769</th>\n",
       "      <td>0.840500</td>\n",
       "      <td>3.246923</td>\n",
       "      <td>0.917277</td>\n",
       "      <td>0.778002</td>\n",
       "      <td>1.007174</td>\n",
       "    </tr>\n",
       "    <tr>\n",
       "      <th>1770</th>\n",
       "      <td>-0.502624</td>\n",
       "      <td>0.441219</td>\n",
       "      <td>0.621008</td>\n",
       "      <td>0.691645</td>\n",
       "      <td>1.068050</td>\n",
       "    </tr>\n",
       "    <tr>\n",
       "      <th>1771</th>\n",
       "      <td>-0.968037</td>\n",
       "      <td>3.827374</td>\n",
       "      <td>0.697611</td>\n",
       "      <td>0.712081</td>\n",
       "      <td>1.234992</td>\n",
       "    </tr>\n",
       "    <tr>\n",
       "      <th>1772</th>\n",
       "      <td>0.918969</td>\n",
       "      <td>4.682967</td>\n",
       "      <td>0.553552</td>\n",
       "      <td>0.635492</td>\n",
       "      <td>1.057727</td>\n",
       "    </tr>\n",
       "    <tr>\n",
       "      <th>1773</th>\n",
       "      <td>0.987063</td>\n",
       "      <td>2.684601</td>\n",
       "      <td>0.877750</td>\n",
       "      <td>0.599735</td>\n",
       "      <td>1.028902</td>\n",
       "    </tr>\n",
       "    <tr>\n",
       "      <th>1774</th>\n",
       "      <td>0.851366</td>\n",
       "      <td>3.572604</td>\n",
       "      <td>0.816823</td>\n",
       "      <td>0.425331</td>\n",
       "      <td>1.007569</td>\n",
       "    </tr>\n",
       "    <tr>\n",
       "      <th>1775</th>\n",
       "      <td>-0.801664</td>\n",
       "      <td>0.550944</td>\n",
       "      <td>0.172048</td>\n",
       "      <td>0.769159</td>\n",
       "      <td>1.084624</td>\n",
       "    </tr>\n",
       "    <tr>\n",
       "      <th>1776</th>\n",
       "      <td>-0.872627</td>\n",
       "      <td>3.342940</td>\n",
       "      <td>0.944932</td>\n",
       "      <td>0.923651</td>\n",
       "      <td>1.112123</td>\n",
       "    </tr>\n",
       "    <tr>\n",
       "      <th>1777</th>\n",
       "      <td>-0.169956</td>\n",
       "      <td>0.432852</td>\n",
       "      <td>0.119732</td>\n",
       "      <td>0.692857</td>\n",
       "      <td>0.993631</td>\n",
       "    </tr>\n",
       "    <tr>\n",
       "      <th>1778</th>\n",
       "      <td>0.825756</td>\n",
       "      <td>4.339055</td>\n",
       "      <td>0.773358</td>\n",
       "      <td>0.285479</td>\n",
       "      <td>1.177311</td>\n",
       "    </tr>\n",
       "    <tr>\n",
       "      <th>1779</th>\n",
       "      <td>-0.976608</td>\n",
       "      <td>4.077827</td>\n",
       "      <td>0.631407</td>\n",
       "      <td>0.071626</td>\n",
       "      <td>1.120039</td>\n",
       "    </tr>\n",
       "    <tr>\n",
       "      <th>1780</th>\n",
       "      <td>-0.866655</td>\n",
       "      <td>4.362767</td>\n",
       "      <td>0.767296</td>\n",
       "      <td>0.590232</td>\n",
       "      <td>1.242276</td>\n",
       "    </tr>\n",
       "    <tr>\n",
       "      <th>1781</th>\n",
       "      <td>0.884473</td>\n",
       "      <td>3.463993</td>\n",
       "      <td>0.768088</td>\n",
       "      <td>0.397758</td>\n",
       "      <td>0.956905</td>\n",
       "    </tr>\n",
       "    <tr>\n",
       "      <th>1782</th>\n",
       "      <td>-0.159429</td>\n",
       "      <td>0.375847</td>\n",
       "      <td>0.335411</td>\n",
       "      <td>0.755698</td>\n",
       "      <td>1.079224</td>\n",
       "    </tr>\n",
       "    <tr>\n",
       "      <th>1783</th>\n",
       "      <td>-0.923055</td>\n",
       "      <td>3.154968</td>\n",
       "      <td>0.906111</td>\n",
       "      <td>0.373666</td>\n",
       "      <td>1.093350</td>\n",
       "    </tr>\n",
       "    <tr>\n",
       "      <th>1784</th>\n",
       "      <td>-0.363488</td>\n",
       "      <td>0.518832</td>\n",
       "      <td>0.228945</td>\n",
       "      <td>0.139353</td>\n",
       "      <td>1.002038</td>\n",
       "    </tr>\n",
       "    <tr>\n",
       "      <th>1785</th>\n",
       "      <td>-0.076506</td>\n",
       "      <td>0.229285</td>\n",
       "      <td>0.795528</td>\n",
       "      <td>0.025620</td>\n",
       "      <td>1.085810</td>\n",
       "    </tr>\n",
       "    <tr>\n",
       "      <th>1786</th>\n",
       "      <td>-0.689812</td>\n",
       "      <td>0.333400</td>\n",
       "      <td>0.919707</td>\n",
       "      <td>0.572580</td>\n",
       "      <td>1.075103</td>\n",
       "    </tr>\n",
       "    <tr>\n",
       "      <th>1787</th>\n",
       "      <td>-0.794702</td>\n",
       "      <td>4.426718</td>\n",
       "      <td>0.823719</td>\n",
       "      <td>0.857359</td>\n",
       "      <td>1.062324</td>\n",
       "    </tr>\n",
       "    <tr>\n",
       "      <th>1788</th>\n",
       "      <td>-0.621421</td>\n",
       "      <td>0.418614</td>\n",
       "      <td>0.706093</td>\n",
       "      <td>0.852577</td>\n",
       "      <td>1.049007</td>\n",
       "    </tr>\n",
       "    <tr>\n",
       "      <th>1789</th>\n",
       "      <td>0.925645</td>\n",
       "      <td>3.220179</td>\n",
       "      <td>0.806455</td>\n",
       "      <td>0.941906</td>\n",
       "      <td>1.094336</td>\n",
       "    </tr>\n",
       "    <tr>\n",
       "      <th>1790</th>\n",
       "      <td>0.755505</td>\n",
       "      <td>4.571758</td>\n",
       "      <td>0.858664</td>\n",
       "      <td>0.633507</td>\n",
       "      <td>1.180635</td>\n",
       "    </tr>\n",
       "    <tr>\n",
       "      <th>1791</th>\n",
       "      <td>0.894588</td>\n",
       "      <td>3.051407</td>\n",
       "      <td>0.930896</td>\n",
       "      <td>0.888876</td>\n",
       "      <td>1.141083</td>\n",
       "    </tr>\n",
       "  </tbody>\n",
       "</table>\n",
       "<p>1792 rows × 5 columns</p>\n",
       "</div>"
      ],
      "text/plain": [
       "           Cab        tb       Att       Abb      Rtau\n",
       "0    -0.831974  3.648532  0.901429  0.154282  0.953959\n",
       "1    -0.757839  0.548867  0.267481  0.249623  0.986546\n",
       "2    -0.707070  0.528493  0.203084  0.630917  1.273799\n",
       "3     0.948705  4.163820  0.647890  0.073188  1.222725\n",
       "4     0.983327  3.452664  0.710435  0.192294  1.137985\n",
       "5     0.746486  3.860812  0.998984  0.247680  1.064077\n",
       "6    -0.877932  4.975006  0.633174  0.691771  1.167350\n",
       "7    -0.994274  3.008920  0.806340  0.060255  1.058637\n",
       "8     0.797031  4.113242  0.898869  0.225141  1.251716\n",
       "9    -0.914970  4.551438  0.624532  0.164597  1.041796\n",
       "10   -0.121592  0.356867  0.207101  0.014674  1.081817\n",
       "11    0.931801  2.702275  0.979194  0.181639  1.069398\n",
       "12    0.799429  4.910413  0.719366  0.299249  1.139165\n",
       "13   -0.928013  3.971728  0.700852  0.289350  1.075008\n",
       "14   -0.317109  0.312451  0.972203  0.509155  1.106621\n",
       "15   -0.011462  0.130573  0.595737  0.257710  1.014113\n",
       "16   -0.167271  0.287684  0.750615  0.533122  1.207454\n",
       "17   -0.251238  0.353968  0.746367  0.976501  1.091991\n",
       "18   -0.883182  4.494400  0.673405  0.143928  1.027229\n",
       "19   -0.507801  0.381575  0.763976  0.917024  1.190963\n",
       "20   -0.986810  4.056429  0.570213  0.482368  0.972841\n",
       "21   -0.978291  4.298265  0.601371  0.159451  1.147294\n",
       "22   -0.978884  2.930607  0.826012  0.790174  1.002995\n",
       "23   -0.923807  0.307443  0.798263  0.458092  1.024196\n",
       "24    0.702503  4.965048  0.896776  0.435287  1.122690\n",
       "25   -0.965821  4.501513  0.548792  0.784717  1.053898\n",
       "26   -0.375830  0.484685  0.400599  0.352046  1.011555\n",
       "27   -0.179708  0.317449  0.580193  0.538183  1.254245\n",
       "28    0.842581  3.717939  0.810766  0.603326  1.049786\n",
       "29   -0.819903  3.852954  0.886406  0.025732  0.970539\n",
       "...        ...       ...       ...       ...       ...\n",
       "1762  0.590262  0.182622  0.064458  0.984419  1.015005\n",
       "1763 -0.740975  0.364594  0.840198  0.495202  0.985294\n",
       "1764 -0.323357  0.355195  0.804581  0.473802  1.130773\n",
       "1765  0.975369  4.222217  0.594506  0.837869  1.247397\n",
       "1766 -0.075820  0.260954  0.138226  0.948680  1.267428\n",
       "1767  0.971400  4.128478  0.618284  0.036786  1.172209\n",
       "1768 -0.967552  4.573310  0.554396  0.343619  1.061044\n",
       "1769  0.840500  3.246923  0.917277  0.778002  1.007174\n",
       "1770 -0.502624  0.441219  0.621008  0.691645  1.068050\n",
       "1771 -0.968037  3.827374  0.697611  0.712081  1.234992\n",
       "1772  0.918969  4.682967  0.553552  0.635492  1.057727\n",
       "1773  0.987063  2.684601  0.877750  0.599735  1.028902\n",
       "1774  0.851366  3.572604  0.816823  0.425331  1.007569\n",
       "1775 -0.801664  0.550944  0.172048  0.769159  1.084624\n",
       "1776 -0.872627  3.342940  0.944932  0.923651  1.112123\n",
       "1777 -0.169956  0.432852  0.119732  0.692857  0.993631\n",
       "1778  0.825756  4.339055  0.773358  0.285479  1.177311\n",
       "1779 -0.976608  4.077827  0.631407  0.071626  1.120039\n",
       "1780 -0.866655  4.362767  0.767296  0.590232  1.242276\n",
       "1781  0.884473  3.463993  0.768088  0.397758  0.956905\n",
       "1782 -0.159429  0.375847  0.335411  0.755698  1.079224\n",
       "1783 -0.923055  3.154968  0.906111  0.373666  1.093350\n",
       "1784 -0.363488  0.518832  0.228945  0.139353  1.002038\n",
       "1785 -0.076506  0.229285  0.795528  0.025620  1.085810\n",
       "1786 -0.689812  0.333400  0.919707  0.572580  1.075103\n",
       "1787 -0.794702  4.426718  0.823719  0.857359  1.062324\n",
       "1788 -0.621421  0.418614  0.706093  0.852577  1.049007\n",
       "1789  0.925645  3.220179  0.806455  0.941906  1.094336\n",
       "1790  0.755505  4.571758  0.858664  0.633507  1.180635\n",
       "1791  0.894588  3.051407  0.930896  0.888876  1.141083\n",
       "\n",
       "[1792 rows x 5 columns]"
      ]
     },
     "execution_count": 12,
     "metadata": {},
     "output_type": "execute_result"
    }
   ],
   "source": [
    "%time\n",
    "data1s_rtau,data2s_rtau =Rtau.parameter_space_pandas(\n",
    "    rtautau,n=100000,Cab=[-1.0,1.0],tb=[0.1,5.0],\n",
    "    Att=[0.0,1.0],Abb=[0.0,1.0])\n",
    "data1s_rtau"
   ]
  },
  {
   "cell_type": "code",
   "execution_count": 13,
   "metadata": {
    "Collapsed": "false"
   },
   "outputs": [
    {
     "data": {
      "text/plain": [
       "'Rtau'"
      ]
     },
     "execution_count": 13,
     "metadata": {},
     "output_type": "execute_result"
    }
   ],
   "source": [
    "Rtau.latex_name"
   ]
  },
  {
   "cell_type": "code",
   "execution_count": 14,
   "metadata": {
    "Collapsed": "false"
   },
   "outputs": [
    {
     "data": {
      "image/png": "[encoded data removed]",
      "text/plain": [
       "<Figure size 432x288 with 1 Axes>"
      ]
     },
     "metadata": {
      "needs_background": "light"
     },
     "output_type": "display_data"
    }
   ],
   "source": [
    "latex_names = {'Cab':r'$\\cos(\\alpha -\\beta)$',\n",
    "        'tb':r'$\\tan(\\beta)$',\n",
    "        'Att':r'$A_{tt}$','Abb':r'$A_{bb}$','Rtau':r'$R_{\\tau}$',\n",
    "        'Rb':r'$R_b$','Rgamma':r'$R_{\\gamma}$','Rw':r'$R_{W}$','Rz':r'$R_{Z}$'}\n",
    "plot_df(data1s_rtau,colx='Cab',coly='tb',\n",
    "        latex_names=latex_names)"
   ]
  },
  {
   "cell_type": "code",
   "execution_count": 15,
   "metadata": {
    "Collapsed": "false"
   },
   "outputs": [
    {
     "data": {
      "image/png": "[encoded data removed]",
      "text/plain": [
       "<Figure size 432x288 with 4 Axes>"
      ]
     },
     "metadata": {
      "needs_background": "light"
     },
     "output_type": "display_data"
    }
   ],
   "source": [
    "#list(data1s_rtau.keys()).remove('Cab')\n",
    "plot_tabledf(data1s_rtau,coly='Rtau',latex_names=latex_names)"
   ]
  },
  {
   "cell_type": "code",
   "execution_count": null,
   "metadata": {
    "Collapsed": "false"
   },
   "outputs": [],
   "source": []
  },
  {
   "cell_type": "code",
   "execution_count": 13,
   "metadata": {
    "Collapsed": "false"
   },
   "outputs": [],
   "source": []
  }
 ],
 "metadata": {
  "kernelspec": {
   "display_name": "Python 3",
   "language": "python",
   "name": "python3"
  },
  "language_info": {
   "codemirror_mode": {
    "name": "ipython",
    "version": 3
   },
   "file_extension": ".py",
   "mimetype": "text/x-python",
   "name": "python",
   "nbconvert_exporter": "python",
   "pygments_lexer": "ipython3",
   "version": "3.7.3"
  }
 },
 "nbformat": 4,
 "nbformat_minor": 4
}
